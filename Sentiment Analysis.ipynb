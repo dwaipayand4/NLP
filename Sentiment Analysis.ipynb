{
  "cells": [
    {
      "cell_type": "code",
      "execution_count": null,
      "metadata": {},
      "outputs": [],
      "source": []
    },
    {
      "cell_type": "markdown",
      "metadata": {
        "id": "2gv2i9fNDvrg"
      },
      "source": [
        "## Post Sentiment Classification Task"
      ]
    },
    {
      "cell_type": "code",
      "execution_count": 14,
      "metadata": {
        "id": "ZG9BpbQt3-ko"
      },
      "outputs": [],
      "source": [
        "#Loading the dataset\n",
        "import pandas as pd\n",
        "import numpy as np\n",
        "\n",
        "train_data = pd.read_json(\"https://raw.githubusercontent.com/rpsoft/tad_course/main/reddit_sentiment_train.json\")\n",
        "\n",
        "validation_data = pd.read_json(\"https://raw.githubusercontent.com/rpsoft/tad_course/main/reddit_sentiment_validation.json\")\n",
        "\n",
        "test_data = pd.read_json(\"https://raw.githubusercontent.com/rpsoft/tad_course/main/reddit_sentiment_test.json\")"
      ]
    },
    {
      "cell_type": "code",
      "execution_count": 15,
      "metadata": {
        "colab": {
          "base_uri": "https://localhost:8080/"
        },
        "id": "REvXkGRbdx0i",
        "outputId": "b37c219f-5427-4d21-ec3e-54fb50303326"
      },
      "outputs": [
        {
          "name": "stdout",
          "output_type": "stream",
          "text": [
            "(12138, 12)\n",
            "(3109, 12)\n",
            "(4016, 12)\n"
          ]
        }
      ],
      "source": [
        "# Your code here\n",
        "print(train_data.shape)\n",
        "print(validation_data.shape)\n",
        "print(test_data.shape)"
      ]
    },
    {
      "cell_type": "code",
      "execution_count": 7,
      "metadata": {
        "colab": {
          "base_uri": "https://localhost:8080/",
          "height": 559
        },
        "id": "_1Bw_DOvTF0t",
        "outputId": "7a1e3c6e-430e-4fcf-ce24-c180b2852edd"
      },
      "outputs": [
        {
          "data": {
            "text/html": [
              "<div>\n",
              "<style scoped>\n",
              "    .dataframe tbody tr th:only-of-type {\n",
              "        vertical-align: middle;\n",
              "    }\n",
              "\n",
              "    .dataframe tbody tr th {\n",
              "        vertical-align: top;\n",
              "    }\n",
              "\n",
              "    .dataframe thead th {\n",
              "        text-align: right;\n",
              "    }\n",
              "</style>\n",
              "<table border=\"1\" class=\"dataframe\">\n",
              "  <thead>\n",
              "    <tr style=\"text-align: right;\">\n",
              "      <th></th>\n",
              "      <th>subreddit</th>\n",
              "      <th>title</th>\n",
              "      <th>id</th>\n",
              "      <th>url</th>\n",
              "      <th>author</th>\n",
              "      <th>body</th>\n",
              "      <th>majority_type</th>\n",
              "      <th>is_first_post</th>\n",
              "      <th>post_depth</th>\n",
              "      <th>in_reply_to</th>\n",
              "      <th>sentiment.polarity</th>\n",
              "      <th>sentiment.subjectivity</th>\n",
              "    </tr>\n",
              "  </thead>\n",
              "  <tbody>\n",
              "    <tr>\n",
              "      <th>0</th>\n",
              "      <td>relationships</td>\n",
              "      <td>My Friend/Crush [22/F] acting weird after I [2...</td>\n",
              "      <td>t1_cy7f317</td>\n",
              "      <td>https://www.reddit.com/r/relationships/comment...</td>\n",
              "      <td>Melodrama_</td>\n",
              "      <td>It's a sad realization, isn't it?</td>\n",
              "      <td></td>\n",
              "      <td>False</td>\n",
              "      <td>2</td>\n",
              "      <td>t1_cy7erc5</td>\n",
              "      <td>negative</td>\n",
              "      <td>1.000000</td>\n",
              "    </tr>\n",
              "    <tr>\n",
              "      <th>1</th>\n",
              "      <td>relationships</td>\n",
              "      <td>My Friend/Crush [22/F] acting weird after I [2...</td>\n",
              "      <td>t1_cy7hlyf</td>\n",
              "      <td>https://www.reddit.com/r/relationships/comment...</td>\n",
              "      <td>Melodrama_</td>\n",
              "      <td>I told her a couple of minutes ago that I didn...</td>\n",
              "      <td>elaboration</td>\n",
              "      <td>False</td>\n",
              "      <td>2</td>\n",
              "      <td>t1_cy7erc5</td>\n",
              "      <td>neutral</td>\n",
              "      <td>0.483631</td>\n",
              "    </tr>\n",
              "    <tr>\n",
              "      <th>2</th>\n",
              "      <td>relationships</td>\n",
              "      <td>My Friend/Crush [22/F] acting weird after I [2...</td>\n",
              "      <td>t1_cy7etrr</td>\n",
              "      <td>https://www.reddit.com/r/relationships/comment...</td>\n",
              "      <td>TreatYoSelves</td>\n",
              "      <td>Leeches don't make good friends.</td>\n",
              "      <td>answer</td>\n",
              "      <td>False</td>\n",
              "      <td>1</td>\n",
              "      <td>t3_3xshx9</td>\n",
              "      <td>positive</td>\n",
              "      <td>0.600000</td>\n",
              "    </tr>\n",
              "    <tr>\n",
              "      <th>3</th>\n",
              "      <td>relationships</td>\n",
              "      <td>My Friend/Crush [22/F] acting weird after I [2...</td>\n",
              "      <td>t1_cy7hhpq</td>\n",
              "      <td>https://www.reddit.com/r/relationships/comment...</td>\n",
              "      <td>Melodrama_</td>\n",
              "      <td>I just ended it. Apparently she wasn't a good ...</td>\n",
              "      <td>elaboration</td>\n",
              "      <td>False</td>\n",
              "      <td>2</td>\n",
              "      <td>t1_cy7etrr</td>\n",
              "      <td>positive</td>\n",
              "      <td>0.475000</td>\n",
              "    </tr>\n",
              "    <tr>\n",
              "      <th>4</th>\n",
              "      <td>relationships</td>\n",
              "      <td>My Friend/Crush [22/F] acting weird after I [2...</td>\n",
              "      <td>t1_cy7q0qg</td>\n",
              "      <td>https://www.reddit.com/r/relationships/comment...</td>\n",
              "      <td>TreatYoSelves</td>\n",
              "      <td>Good for you!  Make sure you stick with it.</td>\n",
              "      <td>appreciation</td>\n",
              "      <td>False</td>\n",
              "      <td>3</td>\n",
              "      <td>t1_cy7hhpq</td>\n",
              "      <td>positive</td>\n",
              "      <td>0.744444</td>\n",
              "    </tr>\n",
              "  </tbody>\n",
              "</table>\n",
              "</div>"
            ],
            "text/plain": [
              "       subreddit  ... sentiment.subjectivity\n",
              "0  relationships  ...               1.000000\n",
              "1  relationships  ...               0.483631\n",
              "2  relationships  ...               0.600000\n",
              "3  relationships  ...               0.475000\n",
              "4  relationships  ...               0.744444\n",
              "\n",
              "[5 rows x 12 columns]"
            ]
          },
          "execution_count": 7,
          "metadata": {
            "tags": []
          },
          "output_type": "execute_result"
        }
      ],
      "source": [
        "train_data.head(5)\n"
      ]
    },
    {
      "cell_type": "code",
      "execution_count": 16,
      "metadata": {
        "colab": {
          "base_uri": "https://localhost:8080/"
        },
        "id": "XDwwiIaLsIzQ",
        "outputId": "fa70c97f-ffb0-499b-f453-a48e368f36d1"
      },
      "outputs": [
        {
          "name": "stdout",
          "output_type": "stream",
          "text": [
            "neutral          7679\n",
            "positive         3231\n",
            "negative          878\n",
            "very positive     253\n",
            "very negative      97\n",
            "Name: sentiment.polarity, dtype: int64\n"
          ]
        },
        {
          "data": {
            "text/plain": [
              "neutral          2514\n",
              "positive         1102\n",
              "negative          282\n",
              "very positive      86\n",
              "very negative      32\n",
              "Name: sentiment.polarity, dtype: int64"
            ]
          },
          "execution_count": 16,
          "metadata": {
            "tags": []
          },
          "output_type": "execute_result"
        }
      ],
      "source": [
        "#checking the count of training data and testing data\n",
        "train_data_count=train_data['sentiment.polarity'].value_counts()\n",
        "print(train_data_count)\n",
        "train_data_count=test_data['sentiment.polarity'].value_counts()\n",
        "train_data_count"
      ]
    },
    {
      "cell_type": "code",
      "execution_count": 17,
      "metadata": {
        "colab": {
          "base_uri": "https://localhost:8080/"
        },
        "id": "AfKCv8CMTPZ2",
        "outputId": "eb1af379-a14a-44ca-8603-7534b41aae5d"
      },
      "outputs": [
        {
          "name": "stdout",
          "output_type": "stream",
          "text": [
            " neutral  class consist of 63.2641291810842 %  in training dataset  \n",
            " positive  class consist of 26.61888284725655 %  in training dataset  \n",
            " negative  class consist of 7.233481627945296 %  in training dataset  \n",
            " very positive  class consist of 2.084363157027517 %  in training dataset  \n",
            " very negative  class consist of 0.7991431866864392 %  in training dataset  \n",
            "--------------------------------------------------------------------------------------------------------------\n",
            " neutral  class consist of 63.07494371180444 %  in validation dataset  \n",
            " positive  class consist of 27.17915728530074 %  in validation dataset  \n",
            " negative  class consist of 6.9154068832422 %  in validation dataset  \n",
            " very positive  class consist of 2.348021871984561 %  in validation dataset  \n",
            " very negative  class consist of 0.48247024766806046 %  in validation dataset  \n",
            "------------------------------------------------------------\n",
            " neutral  class consist of 62.5996015936255 %  in testing dataset  \n",
            " positive  class consist of 27.4402390438247 %  in testing dataset  \n",
            " negative  class consist of 7.02191235059761 %  in testing dataset  \n",
            " very positive  class consist of 2.141434262948207 %  in testing dataset  \n",
            " very negative  class consist of 0.796812749003984 %  in testing dataset  \n"
          ]
        }
      ],
      "source": [
        "train_data_count=train_data['sentiment.polarity'].value_counts()\n",
        "for i,j in train_data_count.items():\n",
        "  print(\" {}  class consist of {} %  in training dataset  \".format(i,(j*100)/train_data.shape[0]))\n",
        "print(\"-----------\"*10)\n",
        "validation_data_count=validation_data['sentiment.polarity'].value_counts()\n",
        "for i,j in validation_data_count.items():\n",
        "  print(\" {}  class consist of {} %  in validation dataset  \".format(i,(j*100)/validation_data.shape[0]))\n",
        "print(\"------\"*10)\n",
        "test_data_count=test_data['sentiment.polarity'].value_counts()\n",
        "for i,j in test_data_count.items():\n",
        "  print(\" {}  class consist of {} %  in testing dataset  \".format(i,(j*100)/test_data.shape[0]))"
      ]
    },
    {
      "cell_type": "code",
      "execution_count": 152,
      "metadata": {
        "colab": {
          "base_uri": "https://localhost:8080/"
        },
        "id": "drAGKoFsYkEH",
        "outputId": "102036b4-c760-4e8e-ee90-07f818d0cd9b"
      },
      "outputs": [
        {
          "data": {
            "text/plain": [
              "count       5.000000\n",
              "mean     2427.600000\n",
              "std      3193.136984\n",
              "min        97.000000\n",
              "25%       253.000000\n",
              "50%       878.000000\n",
              "75%      3231.000000\n",
              "max      7679.000000\n",
              "Name: sentiment.polarity, dtype: float64"
            ]
          },
          "execution_count": 152,
          "metadata": {
            "tags": []
          },
          "output_type": "execute_result"
        }
      ],
      "source": [
        "train_data['sentiment.polarity'].value_counts().describe()"
      ]
    },
    {
      "cell_type": "code",
      "execution_count": 153,
      "metadata": {
        "colab": {
          "base_uri": "https://localhost:8080/",
          "height": 344
        },
        "id": "K-GNUEHSQiZZ",
        "outputId": "b4db6846-6f42-4257-c87c-210c3e2ab3cb"
      },
      "outputs": [
        {
          "data": {
            "text/plain": [
              "<matplotlib.axes._subplots.AxesSubplot at 0x7f10fe0de210>"
            ]
          },
          "execution_count": 153,
          "metadata": {
            "tags": []
          },
          "output_type": "execute_result"
        },
        {
          "data": {
            "image/png": "[encoded data removed]",
            "text/plain": [
              "<Figure size 432x288 with 1 Axes>"
            ]
          },
          "metadata": {
            "needs_background": "light",
            "tags": []
          },
          "output_type": "display_data"
        }
      ],
      "source": [
        "#distribution of labels in the training dataset\n",
        "train_data['sentiment.polarity'].value_counts().plot.bar()"
      ]
    },
    {
      "cell_type": "code",
      "execution_count": 8,
      "metadata": {
        "colab": {
          "base_uri": "https://localhost:8080/"
        },
        "id": "qXmeQMQNRUZb",
        "outputId": "9d177f06-2dc6-4a84-df8f-3e41247c0fcd"
      },
      "outputs": [
        {
          "name": "stdout",
          "output_type": "stream",
          "text": [
            "178\n"
          ]
        }
      ],
      "source": [
        "#defining the stopwords\n",
        "import re\n",
        "\n",
        "\n",
        "stopwords= set(['br', 'the', 'i', 'me', 'my', 'myself', 'we', 'our', 'ours', 'ourselves', 'you', \"you're\", \"you've\",\\\n",
        "            \"you'll\", \"you'd\", 'your', 'yours', 'yourself', 'yourselves', 'he', 'him', 'his', 'himself', \\\n",
        "            'she', \"she's\", 'her', 'hers', 'herself', 'it', \"it's\", 'its', 'itself', 'they', 'them', 'their',\\\n",
        "            'theirs', 'themselves', 'what', 'which', 'who', 'whom', 'this', 'that', \"that'll\", 'these', 'those', \\\n",
        "            'am', 'is', 'are', 'was', 'were', 'be', 'been', 'being', 'have', 'has', 'had', 'having', 'do', 'does', \\\n",
        "            'did', 'doing', 'a', 'an', 'the', 'and', 'but', 'if', 'or', 'because', 'as', 'until', 'while', 'of', \\\n",
        "            'at', 'by', 'for', 'with', 'about', 'against', 'between', 'into', 'through', 'during', 'before', 'after',\\\n",
        "            'above', 'below', 'to', 'from', 'up', 'down', 'in', 'out', 'on', 'off', 'over', 'under', 'again', 'further',\\\n",
        "            'then', 'once', 'here', 'there', 'when', 'where', 'why', 'how', 'all', 'any', 'both', 'each', 'few', 'more',\\\n",
        "            'most', 'other', 'some', 'such', 'only', 'own', 'same', 'so', 'than', 'too', 'very', \\\n",
        "            's', 't', 'can', 'will', 'just', 'don', \"don't\", 'should', \"should've\", 'now', 'd', 'll', 'm', 'o', 're', \\\n",
        "            've', 'y', 'ain', 'aren', \"aren't\", 'couldn', \"couldn't\", 'didn', \"didn't\", 'doesn', \"doesn't\", 'hadn',\\\n",
        "            \"hadn't\", 'hasn', \"hasn't\", 'haven', \"haven't\", 'isn', \"isn't\", 'ma', 'mightn', \"mightn't\", 'mustn',\\\n",
        "            \"mustn't\", 'needn', \"needn't\", 'shan', \"shan't\", 'shouldn', \"shouldn't\", 'wasn', \"wasn't\", 'weren', \"weren't\", \\\n",
        "            'won', \"won't\", 'wouldn', \"wouldn't\",\"not\"])\n",
        "\n",
        "print(len(stopwords))\n",
        "\n",
        "  "
      ]
    },
    {
      "cell_type": "code",
      "execution_count": 9,
      "metadata": {
        "colab": {
          "base_uri": "https://localhost:8080/"
        },
        "id": "IcUrfepmYBSR",
        "outputId": "aabe00c0-60d5-4f44-dfbc-3a373b991f2a"
      },
      "outputs": [
        {
          "name": "stdout",
          "output_type": "stream",
          "text": [
            "Requirement already satisfied: en_core_web_sm==2.2.5 from https://github.com/explosion/spacy-models/releases/download/en_core_web_sm-2.2.5/en_core_web_sm-2.2.5.tar.gz#egg=en_core_web_sm==2.2.5 in /usr/local/lib/python3.7/dist-packages (2.2.5)\n",
            "Requirement already satisfied: spacy>=2.2.2 in /usr/local/lib/python3.7/dist-packages (from en_core_web_sm==2.2.5) (2.2.4)\n",
            "Requirement already satisfied: thinc==7.4.0 in /usr/local/lib/python3.7/dist-packages (from spacy>=2.2.2->en_core_web_sm==2.2.5) (7.4.0)\n",
            "Requirement already satisfied: srsly<1.1.0,>=1.0.2 in /usr/local/lib/python3.7/dist-packages (from spacy>=2.2.2->en_core_web_sm==2.2.5) (1.0.5)\n",
            "Requirement already satisfied: cymem<2.1.0,>=2.0.2 in /usr/local/lib/python3.7/dist-packages (from spacy>=2.2.2->en_core_web_sm==2.2.5) (2.0.5)\n",
            "Requirement already satisfied: setuptools in /usr/local/lib/python3.7/dist-packages (from spacy>=2.2.2->en_core_web_sm==2.2.5) (57.0.0)\n",
            "Requirement already satisfied: numpy>=1.15.0 in /usr/local/lib/python3.7/dist-packages (from spacy>=2.2.2->en_core_web_sm==2.2.5) (1.19.5)\n",
            "Requirement already satisfied: tqdm<5.0.0,>=4.38.0 in /usr/local/lib/python3.7/dist-packages (from spacy>=2.2.2->en_core_web_sm==2.2.5) (4.41.1)\n",
            "Requirement already satisfied: wasabi<1.1.0,>=0.4.0 in /usr/local/lib/python3.7/dist-packages (from spacy>=2.2.2->en_core_web_sm==2.2.5) (0.8.2)\n",
            "Requirement already satisfied: murmurhash<1.1.0,>=0.28.0 in /usr/local/lib/python3.7/dist-packages (from spacy>=2.2.2->en_core_web_sm==2.2.5) (1.0.5)\n",
            "Requirement already satisfied: catalogue<1.1.0,>=0.0.7 in /usr/local/lib/python3.7/dist-packages (from spacy>=2.2.2->en_core_web_sm==2.2.5) (1.0.0)\n",
            "Requirement already satisfied: preshed<3.1.0,>=3.0.2 in /usr/local/lib/python3.7/dist-packages (from spacy>=2.2.2->en_core_web_sm==2.2.5) (3.0.5)\n",
            "Requirement already satisfied: blis<0.5.0,>=0.4.0 in /usr/local/lib/python3.7/dist-packages (from spacy>=2.2.2->en_core_web_sm==2.2.5) (0.4.1)\n",
            "Requirement already satisfied: requests<3.0.0,>=2.13.0 in /usr/local/lib/python3.7/dist-packages (from spacy>=2.2.2->en_core_web_sm==2.2.5) (2.23.0)\n",
            "Requirement already satisfied: plac<1.2.0,>=0.9.6 in /usr/local/lib/python3.7/dist-packages (from spacy>=2.2.2->en_core_web_sm==2.2.5) (1.1.3)\n",
            "Requirement already satisfied: importlib-metadata>=0.20; python_version < \"3.8\" in /usr/local/lib/python3.7/dist-packages (from catalogue<1.1.0,>=0.0.7->spacy>=2.2.2->en_core_web_sm==2.2.5) (4.0.1)\n",
            "Requirement already satisfied: certifi>=2017.4.17 in /usr/local/lib/python3.7/dist-packages (from requests<3.0.0,>=2.13.0->spacy>=2.2.2->en_core_web_sm==2.2.5) (2020.12.5)\n",
            "Requirement already satisfied: idna<3,>=2.5 in /usr/local/lib/python3.7/dist-packages (from requests<3.0.0,>=2.13.0->spacy>=2.2.2->en_core_web_sm==2.2.5) (2.10)\n",
            "Requirement already satisfied: chardet<4,>=3.0.2 in /usr/local/lib/python3.7/dist-packages (from requests<3.0.0,>=2.13.0->spacy>=2.2.2->en_core_web_sm==2.2.5) (3.0.4)\n",
            "Requirement already satisfied: urllib3!=1.25.0,!=1.25.1,<1.26,>=1.21.1 in /usr/local/lib/python3.7/dist-packages (from requests<3.0.0,>=2.13.0->spacy>=2.2.2->en_core_web_sm==2.2.5) (1.24.3)\n",
            "Requirement already satisfied: typing-extensions>=3.6.4; python_version < \"3.8\" in /usr/local/lib/python3.7/dist-packages (from importlib-metadata>=0.20; python_version < \"3.8\"->catalogue<1.1.0,>=0.0.7->spacy>=2.2.2->en_core_web_sm==2.2.5) (3.7.4.3)\n",
            "Requirement already satisfied: zipp>=0.5 in /usr/local/lib/python3.7/dist-packages (from importlib-metadata>=0.20; python_version < \"3.8\"->catalogue<1.1.0,>=0.0.7->spacy>=2.2.2->en_core_web_sm==2.2.5) (3.4.1)\n",
            "\u001b[38;5;2m✔ Download and installation successful\u001b[0m\n",
            "You can now load the model via spacy.load('en_core_web_sm')\n",
            "\u001b[38;5;2m✔ Linking successful\u001b[0m\n",
            "/usr/local/lib/python3.7/dist-packages/en_core_web_sm -->\n",
            "/usr/local/lib/python3.7/dist-packages/spacy/data/en\n",
            "You can now load the model via spacy.load('en')\n",
            "3.7.10 (default, May  3 2021, 02:48:31) \n",
            "[GCC 7.5.0]\n",
            "spacy version 2.2.4 is\n",
            "OK\n",
            "[('tagger', <spacy.pipeline.pipes.Tagger object at 0x7efd371fa290>), ('parser', <spacy.pipeline.pipes.DependencyParser object at 0x7efd2f203ad0>)]\n",
            "['tagger', 'parser']\n",
            "[]\n"
          ]
        }
      ],
      "source": [
        "!python -m spacy download en\n",
        "\n",
        "import spacy\n",
        "import sys\n",
        "print(sys.version)\n",
        "\n",
        "# Version checks\n",
        "import importlib\n",
        "def version_check(libname, min_version):\n",
        "    m = importlib.import_module(libname)\n",
        "    print (\"%s version %s is\" % (libname, m.__version__))\n",
        "    print (\"OK\" if m.__version__ >= min_version \n",
        "           else \"out-of-date. Please upgrade!\")\n",
        "    \n",
        "version_check(\"spacy\", \"2.0\")\n",
        "\n",
        "# Load the small english model. \n",
        "# Disable the advanced NLP features in the pipeline for efficiency.\n",
        "nlp = spacy.load('en_core_web_sm', disable=['ner'])\n",
        "print(nlp.pipeline)\n",
        "print(nlp.pipe_names)\n",
        "nlp.remove_pipe('tagger')\n",
        "nlp.remove_pipe('parser')\n",
        "# Verify they are empty.\n",
        "print(nlp.pipeline)"
      ]
    },
    {
      "cell_type": "code",
      "execution_count": null,
      "metadata": {
        "colab": {
          "base_uri": "https://localhost:8080/"
        },
        "id": "eP2Pc3BejJQB",
        "outputId": "b7a203cb-df4f-4416-c946-17721d34d6ae"
      },
      "outputs": [
        {
          "data": {
            "text/plain": [
              "(12138, 12)"
            ]
          },
          "execution_count": 12,
          "metadata": {
            "tags": []
          },
          "output_type": "execute_result"
        }
      ],
      "source": [
        "train_data.shape"
      ]
    },
    {
      "cell_type": "code",
      "execution_count": 10,
      "metadata": {
        "id": "5-_o_AxsfN9j"
      },
      "outputs": [],
      "source": [
        "#preprocessing functions\n",
        "import time\n",
        "from nltk.stem.porter import PorterStemmer\n",
        "\n",
        "def text_preprocessing(df,column):\n",
        "  st=time.time()\n",
        "  ps = PorterStemmer()\n",
        "  mainstring=[]\n",
        "  for str1 in df[column].values:\n",
        "    str1 = decontracted(str1)\n",
        "    str1 = re.sub('[^A-Za-z]+', ' ', str1)\n",
        "    str1=str1.strip()\n",
        "    str1 = ' '.join(e.lower() for e in str1.split() if e.lower() not in stopwords)\n",
        "    doc = nlp(str1)\n",
        "    str1=[]\n",
        "    for token in doc:\n",
        "            token=token.lemma_\n",
        "            token=ps.stem(token)\n",
        "            str1.append(token)\n",
        "    str1 = ' '.join(str1)\n",
        "    mainstring.append(str1.strip())\n",
        "    et=time.time()\n",
        "  print(\"time taken :  \",et-st)\n",
        "  return mainstring\n",
        "\n",
        "#mainstring=text_preprocessing(train_data,'body')\n",
        "\n",
        "import time\n",
        "from nltk.stem.porter import PorterStemmer\n",
        "\n",
        "def text_preprocessing_new(df,column):\n",
        "  st=time.time()\n",
        "  ps = PorterStemmer()\n",
        "  mainstring=[]\n",
        "  for str1 in df[column].values:\n",
        "    str1 = re.sub('[^A-Za-z]+', ' ', str1)\n",
        "    str1=str1.strip()\n",
        "    str1 = ' '.join(e.lower() for e in str1.split() if e.lower() not in stopwords)\n",
        "    mainstring.append(str1.strip())\n",
        "    et=time.time()\n",
        "  print(\"time taken :  \",et-st)\n",
        "  return mainstring\n",
        "\n",
        "\n",
        "\n",
        "\n",
        "\n",
        "\n",
        "    \n",
        "\n",
        "\n"
      ]
    },
    {
      "cell_type": "code",
      "execution_count": null,
      "metadata": {
        "id": "HTYSdy1RIYTb"
      },
      "outputs": [],
      "source": [
        "import pickle\n",
        "filename = 'train_preprocess_list'\n",
        "outfile = open(filename,'wb')\n",
        "pickle.dump(mainstring, outfile)"
      ]
    },
    {
      "cell_type": "code",
      "execution_count": null,
      "metadata": {
        "id": "jQ27_myCg_q2"
      },
      "outputs": [],
      "source": []
    },
    {
      "cell_type": "code",
      "execution_count": 19,
      "metadata": {
        "colab": {
          "base_uri": "https://localhost:8080/"
        },
        "id": "oNvbVAxGY2RG",
        "outputId": "67e2e69c-3d51-4f3f-9738-3d4912c42522"
      },
      "outputs": [
        {
          "name": "stdout",
          "output_type": "stream",
          "text": [
            "some feature names  ['00', '000', '0000', '00005401', '00005402', '00005403', '00005404', '00005405', '00005406', '00005407']\n",
            "==================================================\n",
            "(12138, 23832)\n"
          ]
        }
      ],
      "source": [
        "#bow\n",
        "from sklearn.feature_extraction.text import CountVectorizer\n",
        "count_vect = CountVectorizer() #in scikit-learn\n",
        "\n",
        "count_vect.fit(train_data['body'])\n",
        "print(\"some feature names \", count_vect.get_feature_names()[:10])\n",
        "print('='*50)\n",
        "\n",
        "final_counts = count_vect.transform(train_data['body'])\n",
        "#print(final_counts)\n",
        "final_array=final_counts.toarray().copy()\n",
        "print(final_array.shape)\n",
        "\n",
        "\n"
      ]
    },
    {
      "cell_type": "code",
      "execution_count": 18,
      "metadata": {
        "colab": {
          "base_uri": "https://localhost:8080/"
        },
        "id": "XOkVltuuLKvg",
        "outputId": "f580c131-ca68-4aba-c03e-f4f3bdaf95c8"
      },
      "outputs": [
        {
          "name": "stdout",
          "output_type": "stream",
          "text": [
            "12138\n"
          ]
        }
      ],
      "source": [
        "#changing labels to numeric\n",
        "label=[]\n",
        "for i in train_data['sentiment.polarity']:\n",
        "  if i=='neutral':\n",
        "    label.append(0)\n",
        "  if i==\"positive\":\n",
        "    label.append(1)\n",
        "  if i==\"negative\":\n",
        "    label.append(2)\n",
        "  if i==\"very positive\":\n",
        "    label.append(3)\n",
        "  if i==\"very negative\":\n",
        "    label.append(4)\n",
        "  \n",
        "print(len(label))\n",
        "\n",
        "\n"
      ]
    },
    {
      "cell_type": "code",
      "execution_count": 21,
      "metadata": {
        "colab": {
          "base_uri": "https://localhost:8080/"
        },
        "id": "ICdPgW3kMh7Z",
        "outputId": "130c6fd7-a1d4-43a6-fa39-bb11823ad8fb"
      },
      "outputs": [
        {
          "name": "stdout",
          "output_type": "stream",
          "text": [
            "Counter({0: 7679, 1: 3231, 2: 878, 3: 253, 4: 97})\n",
            "----\n"
          ]
        },
        {
          "data": {
            "text/plain": [
              "neutral          7679\n",
              "positive         3231\n",
              "negative          878\n",
              "very positive     253\n",
              "very negative      97\n",
              "Name: sentiment.polarity, dtype: int64"
            ]
          },
          "execution_count": 21,
          "metadata": {
            "tags": []
          },
          "output_type": "execute_result"
        }
      ],
      "source": [
        "#counting  labels\n",
        "import collections\n",
        "label_count = collections.Counter(label)\n",
        "print(label_count)\n",
        "print(\"----\")\n",
        "train_data['sentiment.polarity'].value_counts()\n"
      ]
    },
    {
      "cell_type": "code",
      "execution_count": null,
      "metadata": {
        "id": "K5yyINQEviOY"
      },
      "outputs": [],
      "source": []
    },
    {
      "cell_type": "code",
      "execution_count": 22,
      "metadata": {
        "colab": {
          "base_uri": "https://localhost:8080/"
        },
        "id": "gMeYnlFtOIOz",
        "outputId": "f0373c83-19d7-44bd-e9da-08f9ee144210"
      },
      "outputs": [
        {
          "name": "stdout",
          "output_type": "stream",
          "text": [
            "4016\n",
            "Counter({0: 2514, 1: 1102, 2: 282, 3: 86, 4: 32})\n",
            "----\n",
            "(4016, 23832) 4016\n"
          ]
        }
      ],
      "source": [
        "\n",
        "test_label=[]\n",
        "for i in test_data['sentiment.polarity']:\n",
        "  if i=='neutral':\n",
        "    test_label.append(0)\n",
        "  if i==\"positive\":\n",
        "    test_label.append(1)\n",
        "  if i==\"negative\":\n",
        "    test_label.append(2)\n",
        "  if i==\"very positive\":\n",
        "    test_label.append(3)\n",
        "  if i==\"very negative\":\n",
        "    test_label.append(4)\n",
        "  \n",
        "print(len(test_label))\n",
        "\n",
        "label_count = collections.Counter(test_label)\n",
        "print(label_count)\n",
        "\n",
        "print(\"----\")\n",
        "test_features = count_vect.transform(test_data['body'])\n",
        "print(test_features.shape,len(test_label))\n",
        "\n"
      ]
    },
    {
      "cell_type": "code",
      "execution_count": 27,
      "metadata": {
        "colab": {
          "base_uri": "https://localhost:8080/",
          "height": 66
        },
        "id": "bpipB1aCCHzx",
        "outputId": "9bf43792-4d7a-469b-e34e-8b542bba6c04"
      },
      "outputs": [
        {
          "data": {
            "text/html": [
              "<div>\n",
              "<style scoped>\n",
              "    .dataframe tbody tr th:only-of-type {\n",
              "        vertical-align: middle;\n",
              "    }\n",
              "\n",
              "    .dataframe tbody tr th {\n",
              "        vertical-align: top;\n",
              "    }\n",
              "\n",
              "    .dataframe thead th {\n",
              "        text-align: right;\n",
              "    }\n",
              "</style>\n",
              "<table border=\"1\" class=\"dataframe\">\n",
              "  <thead>\n",
              "    <tr style=\"text-align: right;\">\n",
              "      <th></th>\n",
              "      <th>Technique name</th>\n",
              "      <th>Train_Accuracy</th>\n",
              "      <th>Test_Accuracy</th>\n",
              "      <th>Macro Train_Precison</th>\n",
              "      <th>Macro Test_Precison</th>\n",
              "      <th>Macro Train_Recall</th>\n",
              "      <th>Macro Test_Recall</th>\n",
              "      <th>Macro Train_F1_score</th>\n",
              "      <th>Macro Test_F1_score</th>\n",
              "    </tr>\n",
              "  </thead>\n",
              "  <tbody>\n",
              "  </tbody>\n",
              "</table>\n",
              "</div>"
            ],
            "text/plain": [
              "Empty DataFrame\n",
              "Columns: [Technique name, Train_Accuracy, Test_Accuracy, Macro Train_Precison, Macro Test_Precison, Macro Train_Recall, Macro Test_Recall, Macro Train_F1_score, Macro Test_F1_score]\n",
              "Index: []"
            ]
          },
          "execution_count": 27,
          "metadata": {
            "tags": []
          },
          "output_type": "execute_result"
        }
      ],
      "source": [
        "global t_name\n",
        "global acc\n",
        "global precision\n",
        "global recall\n",
        "global f1\n",
        "\n",
        "global test_precision\n",
        "global test_recall\n",
        "global test_accuracy\n",
        "global test_f1\n",
        "#col_names=['Technique name','Train_Accuracy','Train_Precison','Train_Recall','Test_F1_score','Test_Accuracy','Test_Precison','Test_Recall','Test_F1_score']\n",
        "col_names=['Technique name','Train_Accuracy','Test_Accuracy','Macro Train_Precison','Macro Test_Precison','Macro Train_Recall','Macro Test_Recall','Macro Train_F1_score','Macro Test_F1_score']\n",
        "result_featureSelection=pd.DataFrame(columns=col_names)\n",
        "result_featureSelection.head()"
      ]
    },
    {
      "cell_type": "code",
      "execution_count": 25,
      "metadata": {
        "id": "S0EX3mRQdAxo"
      },
      "outputs": [],
      "source": [
        "import math\n",
        "def truncate(number, digits) -> float:\n",
        "    stepper = 10.0 ** digits\n",
        "    return math.trunc(stepper * number) / stepper"
      ]
    },
    {
      "cell_type": "code",
      "execution_count": 28,
      "metadata": {
        "colab": {
          "base_uri": "https://localhost:8080/"
        },
        "id": "9Yr_SBwZTryi",
        "outputId": "c76c7fa5-345a-42b8-e677-d15c043c0c9b"
      },
      "outputs": [
        {
          "name": "stdout",
          "output_type": "stream",
          "text": [
            "0.625996015936255\n",
            "Evaluation for: Dummy Classifier Most frequent strategy\n"
          ]
        },
        {
          "name": "stderr",
          "output_type": "stream",
          "text": [
            "/usr/local/lib/python3.7/dist-packages/sklearn/metrics/_classification.py:1272: UndefinedMetricWarning: Recall is ill-defined and being set to 0.0 in labels with no true samples. Use `zero_division` parameter to control this behavior.\n",
            "  _warn_prf(average, modifier, msg_start, len(result))\n"
          ]
        }
      ],
      "source": [
        "from sklearn.metrics import classification_report\n",
        "from sklearn.metrics import confusion_matrix\n",
        "from sklearn.metrics import precision_score\n",
        "from sklearn.metrics import recall_score\n",
        "from sklearn.metrics import accuracy_score\n",
        "from sklearn.metrics import fbeta_score\n",
        "from sklearn.metrics import f1_score\n",
        "\n",
        "def evaluation_summary(description, predictions, true_labels,train_prediction,true_train_labels):\n",
        "  print(\"Evaluation for: \" + description)\n",
        "\n",
        "  global t_name\n",
        "  global acc\n",
        "  global precision\n",
        "  global recall\n",
        "  global f1\n",
        "\n",
        "  global test_precision\n",
        "  global test_recall\n",
        "  global test_accuracy\n",
        "  global test_f1\n",
        "\n",
        "  precision = precision_score(train_prediction, true_train_labels,average='macro')\n",
        "  precision = truncate(precision, 3)\n",
        "  recall = recall_score(train_prediction, true_train_labels,average='macro')\n",
        "  recall = truncate(recall, 3)\n",
        "  acc = accuracy_score(train_prediction, true_train_labels)\n",
        "  acc = truncate(acc, 3)\n",
        "  f1 = f1_score(train_prediction, true_train_labels,average='macro')\n",
        "  f1 = truncate(f1, 3)\n",
        "  #print(precision)\n",
        "\n",
        "  test_precision = precision_score(predictions, true_labels,average='macro')\n",
        "  test_precision = truncate(test_precision, 3)\n",
        "  test_recall = recall_score(predictions, true_labels,average='macro')\n",
        "  test_recall = truncate(test_recall, 3)\n",
        "  test_accuracy = accuracy_score(predictions, true_labels)\n",
        "  test_accuracy = truncate(test_accuracy, 3)\n",
        "  test_f1 = f1_score(predictions, true_labels,average='macro') \n",
        "  test_f1 = truncate(test_f1, 3)\n",
        "\n",
        "  #print(\"Classifier '%s' has Acc=%0.3f P=%0.3f R=%0.3f F1=%0.3f\" % (description,accuracy,precision,recall,f1))\n",
        "  #print(classification_report(predictions, true_labels, digits=3, zero_division = 0))\n",
        "\n",
        "\n",
        "from sklearn.dummy import DummyClassifier\n",
        "dummy_mf = DummyClassifier(strategy='most_frequent',random_state=0)\n",
        "dummy_mf.fit(final_counts, label)\n",
        "print(dummy_mf.score(test_features, test_label))\n",
        "evaluation_summary(\"Dummy Classifier Most frequent strategy\", dummy_mf.predict(test_features), test_label,dummy_mf.predict(final_counts),label)\n",
        "#print(test_precision)\n",
        "new_row = {'Technique name':'Dummy Classifier(Most frequent strategy)', 'Train_Accuracy':acc, 'Test_Accuracy':test_accuracy, 'Macro Train_Precison':precision,'Macro Test_Precison':test_precision,'Macro Train_Recall':recall,'Macro Test_Recall':test_recall,'Macro Train_F1_score':f1,'Macro Test_F1_score':test_f1\n",
        "           }\n",
        "result_featureSelection = result_featureSelection.append(new_row, ignore_index=True)\n"
      ]
    },
    {
      "cell_type": "code",
      "execution_count": 48,
      "metadata": {
        "colab": {
          "base_uri": "https://localhost:8080/"
        },
        "id": "Al0FKDe98N6T",
        "outputId": "8bed60fc-a5a4-4c71-f136-fdc44a15c50c"
      },
      "outputs": [
        {
          "data": {
            "text/plain": [
              "Index(['Technique name', 'Train_Accuracy', 'Test_Accuracy',\n",
              "       'Macro Train_Precison', ' Macro Test_Precison', 'Macro Train_Recall',\n",
              "       'Macro Test_Recall', 'Macro Train_F1_score', 'Macro Test_F1_score',\n",
              "       'Macro Test_Precison'],\n",
              "      dtype='object')"
            ]
          },
          "execution_count": 48,
          "metadata": {
            "tags": []
          },
          "output_type": "execute_result"
        }
      ],
      "source": [
        "result_featureSelection.columns"
      ]
    },
    {
      "cell_type": "code",
      "execution_count": 165,
      "metadata": {
        "colab": {
          "base_uri": "https://localhost:8080/",
          "height": 130
        },
        "id": "IXicMQYuNFyO",
        "outputId": "190ef689-b780-489d-e453-adc8d6427f9b"
      },
      "outputs": [
        {
          "data": {
            "text/html": [
              "<div>\n",
              "<style scoped>\n",
              "    .dataframe tbody tr th:only-of-type {\n",
              "        vertical-align: middle;\n",
              "    }\n",
              "\n",
              "    .dataframe tbody tr th {\n",
              "        vertical-align: top;\n",
              "    }\n",
              "\n",
              "    .dataframe thead th {\n",
              "        text-align: right;\n",
              "    }\n",
              "</style>\n",
              "<table border=\"1\" class=\"dataframe\">\n",
              "  <thead>\n",
              "    <tr style=\"text-align: right;\">\n",
              "      <th></th>\n",
              "      <th>Technique name</th>\n",
              "      <th>Train_Accuracy</th>\n",
              "      <th>Test_Accuracy</th>\n",
              "      <th>Macro Train_Precison</th>\n",
              "      <th>Macro Test_Precison</th>\n",
              "      <th>Macro Train_Recall</th>\n",
              "      <th>Macro Test_Recall</th>\n",
              "      <th>Macro Train_F1_score</th>\n",
              "      <th>Macro Test_F1_score</th>\n",
              "    </tr>\n",
              "  </thead>\n",
              "  <tbody>\n",
              "    <tr>\n",
              "      <th>0</th>\n",
              "      <td>Dummy Classifier(Most frequent strategy)</td>\n",
              "      <td>0.632</td>\n",
              "      <td>0.625</td>\n",
              "      <td>0.2</td>\n",
              "      <td>0.2</td>\n",
              "      <td>0.126</td>\n",
              "      <td>0.125</td>\n",
              "      <td>0.154</td>\n",
              "      <td>0.153</td>\n",
              "    </tr>\n",
              "  </tbody>\n",
              "</table>\n",
              "</div>"
            ],
            "text/plain": [
              "                             Technique name  ...  Macro Test_F1_score\n",
              "0  Dummy Classifier(Most frequent strategy)  ...                0.153\n",
              "\n",
              "[1 rows x 9 columns]"
            ]
          },
          "execution_count": 165,
          "metadata": {
            "tags": []
          },
          "output_type": "execute_result"
        }
      ],
      "source": [
        "result_featureSelection.head()"
      ]
    },
    {
      "cell_type": "code",
      "execution_count": 166,
      "metadata": {
        "colab": {
          "base_uri": "https://localhost:8080/",
          "height": 211
        },
        "id": "HcMqi2bveV-I",
        "outputId": "020120d3-85b1-40f3-e266-b60e47cba4aa"
      },
      "outputs": [
        {
          "name": "stdout",
          "output_type": "stream",
          "text": [
            "0.4810756972111554\n",
            "Evaluation for: Dummy Stratified\n"
          ]
        },
        {
          "data": {
            "text/html": [
              "<div>\n",
              "<style scoped>\n",
              "    .dataframe tbody tr th:only-of-type {\n",
              "        vertical-align: middle;\n",
              "    }\n",
              "\n",
              "    .dataframe tbody tr th {\n",
              "        vertical-align: top;\n",
              "    }\n",
              "\n",
              "    .dataframe thead th {\n",
              "        text-align: right;\n",
              "    }\n",
              "</style>\n",
              "<table border=\"1\" class=\"dataframe\">\n",
              "  <thead>\n",
              "    <tr style=\"text-align: right;\">\n",
              "      <th></th>\n",
              "      <th>Technique name</th>\n",
              "      <th>Train_Accuracy</th>\n",
              "      <th>Test_Accuracy</th>\n",
              "      <th>Macro Train_Precison</th>\n",
              "      <th>Macro Test_Precison</th>\n",
              "      <th>Macro Train_Recall</th>\n",
              "      <th>Macro Test_Recall</th>\n",
              "      <th>Macro Train_F1_score</th>\n",
              "      <th>Macro Test_F1_score</th>\n",
              "    </tr>\n",
              "  </thead>\n",
              "  <tbody>\n",
              "    <tr>\n",
              "      <th>0</th>\n",
              "      <td>Dummy Classifier(Most frequent strategy)</td>\n",
              "      <td>0.632</td>\n",
              "      <td>0.625</td>\n",
              "      <td>0.200</td>\n",
              "      <td>0.200</td>\n",
              "      <td>0.126</td>\n",
              "      <td>0.125</td>\n",
              "      <td>0.154</td>\n",
              "      <td>0.153</td>\n",
              "    </tr>\n",
              "    <tr>\n",
              "      <th>1</th>\n",
              "      <td>Dummy Classifier(Stratified)</td>\n",
              "      <td>0.483</td>\n",
              "      <td>0.481</td>\n",
              "      <td>0.199</td>\n",
              "      <td>0.219</td>\n",
              "      <td>0.199</td>\n",
              "      <td>0.223</td>\n",
              "      <td>0.199</td>\n",
              "      <td>0.221</td>\n",
              "    </tr>\n",
              "  </tbody>\n",
              "</table>\n",
              "</div>"
            ],
            "text/plain": [
              "                             Technique name  ...  Macro Test_F1_score\n",
              "0  Dummy Classifier(Most frequent strategy)  ...                0.153\n",
              "1              Dummy Classifier(Stratified)  ...                0.221\n",
              "\n",
              "[2 rows x 9 columns]"
            ]
          },
          "execution_count": 166,
          "metadata": {
            "tags": []
          },
          "output_type": "execute_result"
        }
      ],
      "source": [
        "dummy_prior = DummyClassifier(strategy='stratified',random_state=0)\n",
        "dummy_prior.fit(final_counts, label)\n",
        "print(dummy_prior.score(test_features, test_label))\n",
        "evaluation_summary(\"Dummy Stratified\", dummy_prior.predict(test_features), test_label,dummy_prior.predict(final_counts),label)\n",
        "new_row = {'Technique name':'Dummy Classifier(Stratified)', 'Train_Accuracy':acc, 'Test_Accuracy':test_accuracy, 'Macro Train_Precison':precision,\n",
        "           \n",
        "           'Macro Test_Precison':test_precision,'Macro Train_Recall':recall,'Macro Test_Recall':test_recall,'Macro Train_F1_score':f1,'Macro Test_F1_score':test_f1\n",
        "           }\n",
        "result_featureSelection = result_featureSelection.append(new_row, ignore_index=True)\n",
        "result_featureSelection.head(5)"
      ]
    },
    {
      "cell_type": "code",
      "execution_count": 167,
      "metadata": {
        "colab": {
          "base_uri": "https://localhost:8080/"
        },
        "id": "M43aLSCxgnmt",
        "outputId": "fb54524b-b74a-43ba-c7d1-cdf7e06c4a1d"
      },
      "outputs": [
        {
          "name": "stdout",
          "output_type": "stream",
          "text": [
            "0.7397908366533864\n",
            "Evaluation for: LR onehot\n"
          ]
        },
        {
          "name": "stderr",
          "output_type": "stream",
          "text": [
            "/usr/local/lib/python3.7/dist-packages/sklearn/linear_model/_logistic.py:940: ConvergenceWarning: lbfgs failed to converge (status=1):\n",
            "STOP: TOTAL NO. of ITERATIONS REACHED LIMIT.\n",
            "\n",
            "Increase the number of iterations (max_iter) or scale the data as shown in:\n",
            "    https://scikit-learn.org/stable/modules/preprocessing.html\n",
            "Please also refer to the documentation for alternative solver options:\n",
            "    https://scikit-learn.org/stable/modules/linear_model.html#logistic-regression\n",
            "  extra_warning_msg=_LOGISTIC_SOLVER_CONVERGENCE_MSG)\n"
          ]
        }
      ],
      "source": [
        "from sklearn.linear_model import LogisticRegression\n",
        "lr = LogisticRegression()\n",
        "lr_model = lr.fit(final_counts, label)\n",
        "print(lr_model.score(test_features, test_label))\n",
        "evaluation_summary(\"LR onehot\", lr_model.predict(test_features), test_label,lr_model.predict(final_counts),label)\n",
        "new_row = {'Technique name':'Log Regression onehotencoding', 'Train_Accuracy':acc, 'Test_Accuracy':test_accuracy, 'Macro Train_Precison':precision,\n",
        "           \n",
        "           'Macro Test_Precison':test_precision,'Macro Train_Recall':recall,'Macro Test_Recall':test_recall,'Macro Train_F1_score':f1,'Macro Test_F1_score':test_f1\n",
        "           }\n",
        "result_featureSelection = result_featureSelection.append(new_row, ignore_index=True)"
      ]
    },
    {
      "cell_type": "code",
      "execution_count": 168,
      "metadata": {
        "colab": {
          "base_uri": "https://localhost:8080/"
        },
        "id": "JJr1dA1wjGnF",
        "outputId": "f1be09ad-55af-4ded-d6a2-05e3ac765a12"
      },
      "outputs": [
        {
          "name": "stdout",
          "output_type": "stream",
          "text": [
            "(12138, 23832) 12138\n",
            "(4016, 23832) 4016\n"
          ]
        }
      ],
      "source": [
        "#tf_idf_logistic regression\n",
        "from sklearn.feature_extraction.text import TfidfVectorizer\n",
        "tf_idf_vect = TfidfVectorizer()\n",
        "tf_idf_vect.fit(train_data['body'])\n",
        "train_features_tf_idf = tf_idf_vect.transform(train_data['body'])\n",
        "print(train_features_tf_idf.shape,len(label))\n",
        "test_features_tf_idf = tf_idf_vect.transform(test_data['body'])\n",
        "print(test_features_tf_idf.shape,len(test_label))"
      ]
    },
    {
      "cell_type": "code",
      "execution_count": 169,
      "metadata": {
        "colab": {
          "base_uri": "https://localhost:8080/"
        },
        "id": "KbGW5wyYnBT3",
        "outputId": "d1c078a1-0275-464a-c611-1fa4a6890ed7"
      },
      "outputs": [
        {
          "name": "stdout",
          "output_type": "stream",
          "text": [
            "0.7387948207171314\n",
            "Evaluation for: LR tfidf\n"
          ]
        },
        {
          "name": "stderr",
          "output_type": "stream",
          "text": [
            "/usr/local/lib/python3.7/dist-packages/sklearn/linear_model/_logistic.py:940: ConvergenceWarning: lbfgs failed to converge (status=1):\n",
            "STOP: TOTAL NO. of ITERATIONS REACHED LIMIT.\n",
            "\n",
            "Increase the number of iterations (max_iter) or scale the data as shown in:\n",
            "    https://scikit-learn.org/stable/modules/preprocessing.html\n",
            "Please also refer to the documentation for alternative solver options:\n",
            "    https://scikit-learn.org/stable/modules/linear_model.html#logistic-regression\n",
            "  extra_warning_msg=_LOGISTIC_SOLVER_CONVERGENCE_MSG)\n",
            "/usr/local/lib/python3.7/dist-packages/sklearn/metrics/_classification.py:1272: UndefinedMetricWarning: Recall is ill-defined and being set to 0.0 in labels with no true samples. Use `zero_division` parameter to control this behavior.\n",
            "  _warn_prf(average, modifier, msg_start, len(result))\n"
          ]
        }
      ],
      "source": [
        "from sklearn.linear_model import LogisticRegression\n",
        "lr = LogisticRegression(random_state=0)\n",
        "lr_model = lr.fit(train_features_tf_idf, label)\n",
        "print(lr_model.score(test_features_tf_idf, test_label))\n",
        "evaluation_summary(\"LR tfidf\", lr_model.predict(test_features_tf_idf), test_label,lr_model.predict(train_features_tf_idf),label)\n",
        "\n",
        "new_row = {'Technique name':'Log Regression TF-IDF', 'Train_Accuracy':acc, 'Test_Accuracy':test_accuracy, 'Macro Train_Precison':precision,\n",
        "           \n",
        "           'Macro Test_Precison':test_precision,'Macro Train_Recall':recall,'Macro Test_Recall':test_recall,'Macro Train_F1_score':f1,'Macro Test_F1_score':test_f1\n",
        "           }\n",
        "result_featureSelection = result_featureSelection.append(new_row, ignore_index=True)"
      ]
    },
    {
      "cell_type": "code",
      "execution_count": 170,
      "metadata": {
        "colab": {
          "base_uri": "https://localhost:8080/",
          "height": 408
        },
        "id": "mN8wjZpLplIh",
        "outputId": "73bfa64d-099f-4c08-cfb9-0379bb9ba642"
      },
      "outputs": [
        {
          "name": "stdout",
          "output_type": "stream",
          "text": [
            "0.703187250996016\n",
            "Evaluation for: SVC \n"
          ]
        },
        {
          "name": "stderr",
          "output_type": "stream",
          "text": [
            "/usr/local/lib/python3.7/dist-packages/sklearn/metrics/_classification.py:1272: UndefinedMetricWarning: Recall is ill-defined and being set to 0.0 in labels with no true samples. Use `zero_division` parameter to control this behavior.\n",
            "  _warn_prf(average, modifier, msg_start, len(result))\n"
          ]
        },
        {
          "data": {
            "text/html": [
              "<div>\n",
              "<style scoped>\n",
              "    .dataframe tbody tr th:only-of-type {\n",
              "        vertical-align: middle;\n",
              "    }\n",
              "\n",
              "    .dataframe tbody tr th {\n",
              "        vertical-align: top;\n",
              "    }\n",
              "\n",
              "    .dataframe thead th {\n",
              "        text-align: right;\n",
              "    }\n",
              "</style>\n",
              "<table border=\"1\" class=\"dataframe\">\n",
              "  <thead>\n",
              "    <tr style=\"text-align: right;\">\n",
              "      <th></th>\n",
              "      <th>Technique name</th>\n",
              "      <th>Train_Accuracy</th>\n",
              "      <th>Test_Accuracy</th>\n",
              "      <th>Macro Train_Precison</th>\n",
              "      <th>Macro Test_Precison</th>\n",
              "      <th>Macro Train_Recall</th>\n",
              "      <th>Macro Test_Recall</th>\n",
              "      <th>Macro Train_F1_score</th>\n",
              "      <th>Macro Test_F1_score</th>\n",
              "    </tr>\n",
              "  </thead>\n",
              "  <tbody>\n",
              "    <tr>\n",
              "      <th>0</th>\n",
              "      <td>Dummy Classifier(Most frequent strategy)</td>\n",
              "      <td>0.632</td>\n",
              "      <td>0.625</td>\n",
              "      <td>0.200</td>\n",
              "      <td>0.200</td>\n",
              "      <td>0.126</td>\n",
              "      <td>0.125</td>\n",
              "      <td>0.154</td>\n",
              "      <td>0.153</td>\n",
              "    </tr>\n",
              "    <tr>\n",
              "      <th>1</th>\n",
              "      <td>Dummy Classifier(Stratified)</td>\n",
              "      <td>0.483</td>\n",
              "      <td>0.481</td>\n",
              "      <td>0.199</td>\n",
              "      <td>0.219</td>\n",
              "      <td>0.199</td>\n",
              "      <td>0.223</td>\n",
              "      <td>0.199</td>\n",
              "      <td>0.221</td>\n",
              "    </tr>\n",
              "    <tr>\n",
              "      <th>2</th>\n",
              "      <td>Log Regression onehotencoding</td>\n",
              "      <td>0.961</td>\n",
              "      <td>0.739</td>\n",
              "      <td>0.841</td>\n",
              "      <td>0.400</td>\n",
              "      <td>0.980</td>\n",
              "      <td>0.533</td>\n",
              "      <td>0.899</td>\n",
              "      <td>0.434</td>\n",
              "    </tr>\n",
              "    <tr>\n",
              "      <th>3</th>\n",
              "      <td>Log Regression TF-IDF</td>\n",
              "      <td>0.817</td>\n",
              "      <td>0.738</td>\n",
              "      <td>0.409</td>\n",
              "      <td>0.325</td>\n",
              "      <td>0.916</td>\n",
              "      <td>0.578</td>\n",
              "      <td>0.461</td>\n",
              "      <td>0.348</td>\n",
              "    </tr>\n",
              "    <tr>\n",
              "      <th>4</th>\n",
              "      <td>Support vector machine(rbf)</td>\n",
              "      <td>0.778</td>\n",
              "      <td>0.703</td>\n",
              "      <td>0.319</td>\n",
              "      <td>0.265</td>\n",
              "      <td>0.528</td>\n",
              "      <td>0.292</td>\n",
              "      <td>0.324</td>\n",
              "      <td>0.259</td>\n",
              "    </tr>\n",
              "  </tbody>\n",
              "</table>\n",
              "</div>"
            ],
            "text/plain": [
              "                             Technique name  ...  Macro Test_F1_score\n",
              "0  Dummy Classifier(Most frequent strategy)  ...                0.153\n",
              "1              Dummy Classifier(Stratified)  ...                0.221\n",
              "2             Log Regression onehotencoding  ...                0.434\n",
              "3                     Log Regression TF-IDF  ...                0.348\n",
              "4               Support vector machine(rbf)  ...                0.259\n",
              "\n",
              "[5 rows x 9 columns]"
            ]
          },
          "execution_count": 170,
          "metadata": {
            "tags": []
          },
          "output_type": "execute_result"
        }
      ],
      "source": [
        "from sklearn.svm import SVC\n",
        "clf = SVC(kernel='rbf',random_state=0)\n",
        "svc = clf.fit(final_counts, label)\n",
        "print(svc.score(test_features, test_label))\n",
        "evaluation_summary(\"SVC \", svc.predict(test_features), test_label,svc.predict(final_counts),label)\n",
        "new_row = {'Technique name':'Support vector machine(rbf)', 'Train_Accuracy':acc, 'Test_Accuracy':test_accuracy, 'Macro Train_Precison':precision,\n",
        "           \n",
        "           'Macro Test_Precison':test_precision,'Macro Train_Recall':recall,'Macro Test_Recall':test_recall,'Macro Train_F1_score':f1,'Macro Test_F1_score':test_f1\n",
        "           }\n",
        "result_featureSelection = result_featureSelection.append(new_row, ignore_index=True)\n",
        "result_featureSelection.head()\n"
      ]
    },
    {
      "cell_type": "code",
      "execution_count": 29,
      "metadata": {
        "colab": {
          "base_uri": "https://localhost:8080/"
        },
        "id": "-SjkweD_iwbD",
        "outputId": "3efc9a75-f097-4f08-d048-d8349c591a59"
      },
      "outputs": [
        {
          "name": "stdout",
          "output_type": "stream",
          "text": [
            "time taken :   0.30757737159729004\n",
            "time taken :   0.09803104400634766\n",
            "(12138, 21488)\n",
            "0.6668326693227091\n",
            "Evaluation for: MultinomialNB \n"
          ]
        },
        {
          "name": "stderr",
          "output_type": "stream",
          "text": [
            "/usr/local/lib/python3.7/dist-packages/sklearn/metrics/_classification.py:1272: UndefinedMetricWarning: Recall is ill-defined and being set to 0.0 in labels with no true samples. Use `zero_division` parameter to control this behavior.\n",
            "  _warn_prf(average, modifier, msg_start, len(result))\n"
          ]
        }
      ],
      "source": [
        "from sklearn.naive_bayes import MultinomialNB  \n",
        "from sklearn.feature_extraction.text import CountVectorizer\n",
        "\n",
        "mainstring_train=text_preprocessing_new(train_data,'body')\n",
        "mainstring_test=text_preprocessing_new(test_data,'body')\n",
        "\n",
        "\n",
        "count_vect = CountVectorizer()\n",
        "\n",
        "count_vect.fit(mainstring_train)\n",
        "final_counts = count_vect.transform(mainstring_train)\n",
        "final_array=final_counts.toarray().copy()\n",
        "print(final_array.shape)\n",
        "test_features=count_vect.transform(mainstring_test)\n",
        "\n",
        "nb = MultinomialNB() \n",
        "nb = nb.fit(final_counts, label)\n",
        "print(nb.score(test_features, test_label))\n",
        "evaluation_summary(\"MultinomialNB \", nb.predict(test_features), test_label,nb.predict(final_counts),label)\n",
        "new_row = {'Technique name':'MultinomialNB(One hot encoding)', 'Train_Accuracy':acc, 'Test_Accuracy':test_accuracy, 'Macro Train_Precison':precision,\n",
        "           \n",
        "           'Macro Test_Precison':test_precision,'Macro Train_Recall':recall,'Macro Test_Recall':test_recall,'Macro Train_F1_score':f1,'Macro Test_F1_score':test_f1\n",
        "           }\n",
        "result_featureSelection = result_featureSelection.append(new_row, ignore_index=True)\n",
        "\n",
        "#result_featureSelection.head(6)"
      ]
    },
    {
      "cell_type": "code",
      "execution_count": 70,
      "metadata": {
        "colab": {
          "base_uri": "https://localhost:8080/"
        },
        "id": "E4IVKsqkAqqL",
        "outputId": "47b3211e-9e2d-4435-aafc-7dd315aa7f07"
      },
      "outputs": [
        {
          "data": {
            "text/plain": [
              "Index(['Technique name', 'Train_Accuracy', 'Test_Accuracy',\n",
              "       'Macro Train_Precison', 'Macro Test_Precison', 'Macro Train_Recall',\n",
              "       'Macro Test_Recall', 'Macro Train_F1_score', 'Macro Test_F1_score'],\n",
              "      dtype='object')"
            ]
          },
          "execution_count": 70,
          "metadata": {
            "tags": []
          },
          "output_type": "execute_result"
        }
      ],
      "source": [
        "result_featureSelection.columns"
      ]
    },
    {
      "cell_type": "code",
      "execution_count": 172,
      "metadata": {
        "colab": {
          "base_uri": "https://localhost:8080/",
          "height": 330
        },
        "id": "uJ18cwyZJp0L",
        "outputId": "36e07f73-6bb5-4856-aeca-27fb8b39ada6"
      },
      "outputs": [
        {
          "name": "stdout",
          "output_type": "stream",
          "text": [
            "\n",
            "\n",
            "\n",
            "\n",
            "\n",
            "\n"
          ]
        },
        {
          "data": {
            "text/html": [
              "<style  type=\"text/css\" >\n",
              "#T_efe5cb68_c54d_11eb_8914_0242ac1c0002row2_col0,#T_efe5cb68_c54d_11eb_8914_0242ac1c0002row2_col1,#T_efe5cb68_c54d_11eb_8914_0242ac1c0002row2_col2,#T_efe5cb68_c54d_11eb_8914_0242ac1c0002row2_col3,#T_efe5cb68_c54d_11eb_8914_0242ac1c0002row2_col4,#T_efe5cb68_c54d_11eb_8914_0242ac1c0002row2_col5,#T_efe5cb68_c54d_11eb_8914_0242ac1c0002row2_col6,#T_efe5cb68_c54d_11eb_8914_0242ac1c0002row2_col7,#T_efe5cb68_c54d_11eb_8914_0242ac1c0002row2_col8{\n",
              "            background-color:  orange;\n",
              "        }</style><table id=\"T_efe5cb68_c54d_11eb_8914_0242ac1c0002\" ><thead>    <tr>        <th class=\"blank level0\" ></th>        <th class=\"col_heading level0 col0\" >Technique name</th>        <th class=\"col_heading level0 col1\" >Train_Accuracy</th>        <th class=\"col_heading level0 col2\" >Test_Accuracy</th>        <th class=\"col_heading level0 col3\" >Macro Train_Precison</th>        <th class=\"col_heading level0 col4\" >Macro Test_Precison</th>        <th class=\"col_heading level0 col5\" >Macro Train_Recall</th>        <th class=\"col_heading level0 col6\" >Macro Test_Recall</th>        <th class=\"col_heading level0 col7\" >Macro Train_F1_score</th>        <th class=\"col_heading level0 col8\" >Macro Test_F1_score</th>    </tr></thead><tbody>\n",
              "                <tr>\n",
              "                        <th id=\"T_efe5cb68_c54d_11eb_8914_0242ac1c0002level0_row0\" class=\"row_heading level0 row0\" >0</th>\n",
              "                        <td id=\"T_efe5cb68_c54d_11eb_8914_0242ac1c0002row0_col0\" class=\"data row0 col0\" >Dummy Classifier(Most frequent strategy)</td>\n",
              "                        <td id=\"T_efe5cb68_c54d_11eb_8914_0242ac1c0002row0_col1\" class=\"data row0 col1\" >0.632000</td>\n",
              "                        <td id=\"T_efe5cb68_c54d_11eb_8914_0242ac1c0002row0_col2\" class=\"data row0 col2\" >0.625000</td>\n",
              "                        <td id=\"T_efe5cb68_c54d_11eb_8914_0242ac1c0002row0_col3\" class=\"data row0 col3\" >0.200000</td>\n",
              "                        <td id=\"T_efe5cb68_c54d_11eb_8914_0242ac1c0002row0_col4\" class=\"data row0 col4\" >0.200000</td>\n",
              "                        <td id=\"T_efe5cb68_c54d_11eb_8914_0242ac1c0002row0_col5\" class=\"data row0 col5\" >0.126000</td>\n",
              "                        <td id=\"T_efe5cb68_c54d_11eb_8914_0242ac1c0002row0_col6\" class=\"data row0 col6\" >0.125000</td>\n",
              "                        <td id=\"T_efe5cb68_c54d_11eb_8914_0242ac1c0002row0_col7\" class=\"data row0 col7\" >0.154000</td>\n",
              "                        <td id=\"T_efe5cb68_c54d_11eb_8914_0242ac1c0002row0_col8\" class=\"data row0 col8\" >0.153000</td>\n",
              "            </tr>\n",
              "            <tr>\n",
              "                        <th id=\"T_efe5cb68_c54d_11eb_8914_0242ac1c0002level0_row1\" class=\"row_heading level0 row1\" >1</th>\n",
              "                        <td id=\"T_efe5cb68_c54d_11eb_8914_0242ac1c0002row1_col0\" class=\"data row1 col0\" >Dummy Classifier(Stratified)</td>\n",
              "                        <td id=\"T_efe5cb68_c54d_11eb_8914_0242ac1c0002row1_col1\" class=\"data row1 col1\" >0.483000</td>\n",
              "                        <td id=\"T_efe5cb68_c54d_11eb_8914_0242ac1c0002row1_col2\" class=\"data row1 col2\" >0.481000</td>\n",
              "                        <td id=\"T_efe5cb68_c54d_11eb_8914_0242ac1c0002row1_col3\" class=\"data row1 col3\" >0.199000</td>\n",
              "                        <td id=\"T_efe5cb68_c54d_11eb_8914_0242ac1c0002row1_col4\" class=\"data row1 col4\" >0.219000</td>\n",
              "                        <td id=\"T_efe5cb68_c54d_11eb_8914_0242ac1c0002row1_col5\" class=\"data row1 col5\" >0.199000</td>\n",
              "                        <td id=\"T_efe5cb68_c54d_11eb_8914_0242ac1c0002row1_col6\" class=\"data row1 col6\" >0.223000</td>\n",
              "                        <td id=\"T_efe5cb68_c54d_11eb_8914_0242ac1c0002row1_col7\" class=\"data row1 col7\" >0.199000</td>\n",
              "                        <td id=\"T_efe5cb68_c54d_11eb_8914_0242ac1c0002row1_col8\" class=\"data row1 col8\" >0.221000</td>\n",
              "            </tr>\n",
              "            <tr>\n",
              "                        <th id=\"T_efe5cb68_c54d_11eb_8914_0242ac1c0002level0_row2\" class=\"row_heading level0 row2\" >2</th>\n",
              "                        <td id=\"T_efe5cb68_c54d_11eb_8914_0242ac1c0002row2_col0\" class=\"data row2 col0\" >Log Regression onehotencoding</td>\n",
              "                        <td id=\"T_efe5cb68_c54d_11eb_8914_0242ac1c0002row2_col1\" class=\"data row2 col1\" >0.961000</td>\n",
              "                        <td id=\"T_efe5cb68_c54d_11eb_8914_0242ac1c0002row2_col2\" class=\"data row2 col2\" >0.739000</td>\n",
              "                        <td id=\"T_efe5cb68_c54d_11eb_8914_0242ac1c0002row2_col3\" class=\"data row2 col3\" >0.841000</td>\n",
              "                        <td id=\"T_efe5cb68_c54d_11eb_8914_0242ac1c0002row2_col4\" class=\"data row2 col4\" >0.400000</td>\n",
              "                        <td id=\"T_efe5cb68_c54d_11eb_8914_0242ac1c0002row2_col5\" class=\"data row2 col5\" >0.980000</td>\n",
              "                        <td id=\"T_efe5cb68_c54d_11eb_8914_0242ac1c0002row2_col6\" class=\"data row2 col6\" >0.533000</td>\n",
              "                        <td id=\"T_efe5cb68_c54d_11eb_8914_0242ac1c0002row2_col7\" class=\"data row2 col7\" >0.899000</td>\n",
              "                        <td id=\"T_efe5cb68_c54d_11eb_8914_0242ac1c0002row2_col8\" class=\"data row2 col8\" >0.434000</td>\n",
              "            </tr>\n",
              "            <tr>\n",
              "                        <th id=\"T_efe5cb68_c54d_11eb_8914_0242ac1c0002level0_row3\" class=\"row_heading level0 row3\" >3</th>\n",
              "                        <td id=\"T_efe5cb68_c54d_11eb_8914_0242ac1c0002row3_col0\" class=\"data row3 col0\" >Log Regression TF-IDF</td>\n",
              "                        <td id=\"T_efe5cb68_c54d_11eb_8914_0242ac1c0002row3_col1\" class=\"data row3 col1\" >0.817000</td>\n",
              "                        <td id=\"T_efe5cb68_c54d_11eb_8914_0242ac1c0002row3_col2\" class=\"data row3 col2\" >0.738000</td>\n",
              "                        <td id=\"T_efe5cb68_c54d_11eb_8914_0242ac1c0002row3_col3\" class=\"data row3 col3\" >0.409000</td>\n",
              "                        <td id=\"T_efe5cb68_c54d_11eb_8914_0242ac1c0002row3_col4\" class=\"data row3 col4\" >0.325000</td>\n",
              "                        <td id=\"T_efe5cb68_c54d_11eb_8914_0242ac1c0002row3_col5\" class=\"data row3 col5\" >0.916000</td>\n",
              "                        <td id=\"T_efe5cb68_c54d_11eb_8914_0242ac1c0002row3_col6\" class=\"data row3 col6\" >0.578000</td>\n",
              "                        <td id=\"T_efe5cb68_c54d_11eb_8914_0242ac1c0002row3_col7\" class=\"data row3 col7\" >0.461000</td>\n",
              "                        <td id=\"T_efe5cb68_c54d_11eb_8914_0242ac1c0002row3_col8\" class=\"data row3 col8\" >0.348000</td>\n",
              "            </tr>\n",
              "            <tr>\n",
              "                        <th id=\"T_efe5cb68_c54d_11eb_8914_0242ac1c0002level0_row4\" class=\"row_heading level0 row4\" >4</th>\n",
              "                        <td id=\"T_efe5cb68_c54d_11eb_8914_0242ac1c0002row4_col0\" class=\"data row4 col0\" >Support vector machine(rbf)</td>\n",
              "                        <td id=\"T_efe5cb68_c54d_11eb_8914_0242ac1c0002row4_col1\" class=\"data row4 col1\" >0.778000</td>\n",
              "                        <td id=\"T_efe5cb68_c54d_11eb_8914_0242ac1c0002row4_col2\" class=\"data row4 col2\" >0.703000</td>\n",
              "                        <td id=\"T_efe5cb68_c54d_11eb_8914_0242ac1c0002row4_col3\" class=\"data row4 col3\" >0.319000</td>\n",
              "                        <td id=\"T_efe5cb68_c54d_11eb_8914_0242ac1c0002row4_col4\" class=\"data row4 col4\" >0.265000</td>\n",
              "                        <td id=\"T_efe5cb68_c54d_11eb_8914_0242ac1c0002row4_col5\" class=\"data row4 col5\" >0.528000</td>\n",
              "                        <td id=\"T_efe5cb68_c54d_11eb_8914_0242ac1c0002row4_col6\" class=\"data row4 col6\" >0.292000</td>\n",
              "                        <td id=\"T_efe5cb68_c54d_11eb_8914_0242ac1c0002row4_col7\" class=\"data row4 col7\" >0.324000</td>\n",
              "                        <td id=\"T_efe5cb68_c54d_11eb_8914_0242ac1c0002row4_col8\" class=\"data row4 col8\" >0.259000</td>\n",
              "            </tr>\n",
              "            <tr>\n",
              "                        <th id=\"T_efe5cb68_c54d_11eb_8914_0242ac1c0002level0_row5\" class=\"row_heading level0 row5\" >5</th>\n",
              "                        <td id=\"T_efe5cb68_c54d_11eb_8914_0242ac1c0002row5_col0\" class=\"data row5 col0\" >MultinomialNB(One hot encoding)</td>\n",
              "                        <td id=\"T_efe5cb68_c54d_11eb_8914_0242ac1c0002row5_col1\" class=\"data row5 col1\" >0.822000</td>\n",
              "                        <td id=\"T_efe5cb68_c54d_11eb_8914_0242ac1c0002row5_col2\" class=\"data row5 col2\" >0.666000</td>\n",
              "                        <td id=\"T_efe5cb68_c54d_11eb_8914_0242ac1c0002row5_col3\" class=\"data row5 col3\" >0.423000</td>\n",
              "                        <td id=\"T_efe5cb68_c54d_11eb_8914_0242ac1c0002row5_col4\" class=\"data row5 col4\" >0.272000</td>\n",
              "                        <td id=\"T_efe5cb68_c54d_11eb_8914_0242ac1c0002row5_col5\" class=\"data row5 col5\" >0.763000</td>\n",
              "                        <td id=\"T_efe5cb68_c54d_11eb_8914_0242ac1c0002row5_col6\" class=\"data row5 col6\" >0.446000</td>\n",
              "                        <td id=\"T_efe5cb68_c54d_11eb_8914_0242ac1c0002row5_col7\" class=\"data row5 col7\" >0.458000</td>\n",
              "                        <td id=\"T_efe5cb68_c54d_11eb_8914_0242ac1c0002row5_col8\" class=\"data row5 col8\" >0.274000</td>\n",
              "            </tr>\n",
              "    </tbody></table>"
            ],
            "text/plain": [
              "<pandas.io.formats.style.Styler at 0x7f10d95f4050>"
            ]
          },
          "execution_count": 172,
          "metadata": {
            "tags": []
          },
          "output_type": "execute_result"
        }
      ],
      "source": [
        "def highlight_greaterthan(i, t, column):\n",
        "  is_max = pd.Series(data=False, index=i.index)\n",
        "  is_max = pd.Series(data=False, index=i.index)\n",
        "  print()\n",
        "  is_max[column] = i.loc[column] >= t\n",
        "  return ['background-color: orange' if is_max.any() else '' for v in is_max]\n",
        " \n",
        "result_featureSelection.style.apply(highlight_greaterthan, t=0.89, column=['Train_Accuracy'],axis=1)"
      ]
    },
    {
      "cell_type": "code",
      "execution_count": 94,
      "metadata": {
        "colab": {
          "base_uri": "https://localhost:8080/",
          "height": 229
        },
        "id": "9XgN93k65hsU",
        "outputId": "e61cf2f9-c180-4310-de27-8e45d4234e2a"
      },
      "outputs": [
        {
          "data": {
            "text/html": [
              "<style  type=\"text/css\" >\n",
              "#T_f29d0e4e_c533_11eb_8914_0242ac1c0002row0_col0,#T_f29d0e4e_c533_11eb_8914_0242ac1c0002row0_col1,#T_f29d0e4e_c533_11eb_8914_0242ac1c0002row0_col2,#T_f29d0e4e_c533_11eb_8914_0242ac1c0002row0_col3,#T_f29d0e4e_c533_11eb_8914_0242ac1c0002row0_col4,#T_f29d0e4e_c533_11eb_8914_0242ac1c0002row0_col5,#T_f29d0e4e_c533_11eb_8914_0242ac1c0002row0_col6,#T_f29d0e4e_c533_11eb_8914_0242ac1c0002row0_col7,#T_f29d0e4e_c533_11eb_8914_0242ac1c0002row0_col8,#T_f29d0e4e_c533_11eb_8914_0242ac1c0002row1_col0,#T_f29d0e4e_c533_11eb_8914_0242ac1c0002row1_col1,#T_f29d0e4e_c533_11eb_8914_0242ac1c0002row1_col2,#T_f29d0e4e_c533_11eb_8914_0242ac1c0002row1_col3,#T_f29d0e4e_c533_11eb_8914_0242ac1c0002row1_col4,#T_f29d0e4e_c533_11eb_8914_0242ac1c0002row1_col5,#T_f29d0e4e_c533_11eb_8914_0242ac1c0002row1_col6,#T_f29d0e4e_c533_11eb_8914_0242ac1c0002row1_col7,#T_f29d0e4e_c533_11eb_8914_0242ac1c0002row1_col8,#T_f29d0e4e_c533_11eb_8914_0242ac1c0002row2_col0,#T_f29d0e4e_c533_11eb_8914_0242ac1c0002row2_col1,#T_f29d0e4e_c533_11eb_8914_0242ac1c0002row2_col2,#T_f29d0e4e_c533_11eb_8914_0242ac1c0002row2_col3,#T_f29d0e4e_c533_11eb_8914_0242ac1c0002row2_col4,#T_f29d0e4e_c533_11eb_8914_0242ac1c0002row2_col5,#T_f29d0e4e_c533_11eb_8914_0242ac1c0002row2_col6,#T_f29d0e4e_c533_11eb_8914_0242ac1c0002row2_col7,#T_f29d0e4e_c533_11eb_8914_0242ac1c0002row2_col8,#T_f29d0e4e_c533_11eb_8914_0242ac1c0002row3_col1,#T_f29d0e4e_c533_11eb_8914_0242ac1c0002row3_col2,#T_f29d0e4e_c533_11eb_8914_0242ac1c0002row3_col3,#T_f29d0e4e_c533_11eb_8914_0242ac1c0002row3_col4,#T_f29d0e4e_c533_11eb_8914_0242ac1c0002row3_col5,#T_f29d0e4e_c533_11eb_8914_0242ac1c0002row3_col6,#T_f29d0e4e_c533_11eb_8914_0242ac1c0002row3_col7,#T_f29d0e4e_c533_11eb_8914_0242ac1c0002row3_col8,#T_f29d0e4e_c533_11eb_8914_0242ac1c0002row4_col0,#T_f29d0e4e_c533_11eb_8914_0242ac1c0002row4_col1,#T_f29d0e4e_c533_11eb_8914_0242ac1c0002row4_col2,#T_f29d0e4e_c533_11eb_8914_0242ac1c0002row4_col3,#T_f29d0e4e_c533_11eb_8914_0242ac1c0002row4_col4,#T_f29d0e4e_c533_11eb_8914_0242ac1c0002row4_col5,#T_f29d0e4e_c533_11eb_8914_0242ac1c0002row4_col6,#T_f29d0e4e_c533_11eb_8914_0242ac1c0002row4_col7,#T_f29d0e4e_c533_11eb_8914_0242ac1c0002row4_col8,#T_f29d0e4e_c533_11eb_8914_0242ac1c0002row5_col0,#T_f29d0e4e_c533_11eb_8914_0242ac1c0002row5_col1,#T_f29d0e4e_c533_11eb_8914_0242ac1c0002row5_col2,#T_f29d0e4e_c533_11eb_8914_0242ac1c0002row5_col3,#T_f29d0e4e_c533_11eb_8914_0242ac1c0002row5_col4,#T_f29d0e4e_c533_11eb_8914_0242ac1c0002row5_col5,#T_f29d0e4e_c533_11eb_8914_0242ac1c0002row5_col6,#T_f29d0e4e_c533_11eb_8914_0242ac1c0002row5_col7,#T_f29d0e4e_c533_11eb_8914_0242ac1c0002row5_col8{\n",
              "            color:  black;\n",
              "        }#T_f29d0e4e_c533_11eb_8914_0242ac1c0002row3_col0{\n",
              "            color:  red;\n",
              "        }</style><table id=\"T_f29d0e4e_c533_11eb_8914_0242ac1c0002\" ><thead>    <tr>        <th class=\"blank level0\" ></th>        <th class=\"col_heading level0 col0\" >Technique name</th>        <th class=\"col_heading level0 col1\" >Train_Accuracy</th>        <th class=\"col_heading level0 col2\" >Test_Accuracy</th>        <th class=\"col_heading level0 col3\" >Macro Train_Precison</th>        <th class=\"col_heading level0 col4\" >Macro Test_Precison</th>        <th class=\"col_heading level0 col5\" >Macro Train_Recall</th>        <th class=\"col_heading level0 col6\" >Macro Test_Recall</th>        <th class=\"col_heading level0 col7\" >Macro Train_F1_score</th>        <th class=\"col_heading level0 col8\" >Macro Test_F1_score</th>    </tr></thead><tbody>\n",
              "                <tr>\n",
              "                        <th id=\"T_f29d0e4e_c533_11eb_8914_0242ac1c0002level0_row0\" class=\"row_heading level0 row0\" >0</th>\n",
              "                        <td id=\"T_f29d0e4e_c533_11eb_8914_0242ac1c0002row0_col0\" class=\"data row0 col0\" >Dummy Classifier(Most frequent strategy)</td>\n",
              "                        <td id=\"T_f29d0e4e_c533_11eb_8914_0242ac1c0002row0_col1\" class=\"data row0 col1\" >0.632641</td>\n",
              "                        <td id=\"T_f29d0e4e_c533_11eb_8914_0242ac1c0002row0_col2\" class=\"data row0 col2\" >0.625996</td>\n",
              "                        <td id=\"T_f29d0e4e_c533_11eb_8914_0242ac1c0002row0_col3\" class=\"data row0 col3\" >0.200000</td>\n",
              "                        <td id=\"T_f29d0e4e_c533_11eb_8914_0242ac1c0002row0_col4\" class=\"data row0 col4\" >0.200000</td>\n",
              "                        <td id=\"T_f29d0e4e_c533_11eb_8914_0242ac1c0002row0_col5\" class=\"data row0 col5\" >0.126528</td>\n",
              "                        <td id=\"T_f29d0e4e_c533_11eb_8914_0242ac1c0002row0_col6\" class=\"data row0 col6\" >0.125199</td>\n",
              "                        <td id=\"T_f29d0e4e_c533_11eb_8914_0242ac1c0002row0_col7\" class=\"data row0 col7\" >0.154998</td>\n",
              "                        <td id=\"T_f29d0e4e_c533_11eb_8914_0242ac1c0002row0_col8\" class=\"data row0 col8\" >0.153997</td>\n",
              "            </tr>\n",
              "            <tr>\n",
              "                        <th id=\"T_f29d0e4e_c533_11eb_8914_0242ac1c0002level0_row1\" class=\"row_heading level0 row1\" >1</th>\n",
              "                        <td id=\"T_f29d0e4e_c533_11eb_8914_0242ac1c0002row1_col0\" class=\"data row1 col0\" >Dummy Classifier(Stratified)</td>\n",
              "                        <td id=\"T_f29d0e4e_c533_11eb_8914_0242ac1c0002row1_col1\" class=\"data row1 col1\" >0.483193</td>\n",
              "                        <td id=\"T_f29d0e4e_c533_11eb_8914_0242ac1c0002row1_col2\" class=\"data row1 col2\" >0.481076</td>\n",
              "                        <td id=\"T_f29d0e4e_c533_11eb_8914_0242ac1c0002row1_col3\" class=\"data row1 col3\" >0.199302</td>\n",
              "                        <td id=\"T_f29d0e4e_c533_11eb_8914_0242ac1c0002row1_col4\" class=\"data row1 col4\" >0.219628</td>\n",
              "                        <td id=\"T_f29d0e4e_c533_11eb_8914_0242ac1c0002row1_col5\" class=\"data row1 col5\" >0.199073</td>\n",
              "                        <td id=\"T_f29d0e4e_c533_11eb_8914_0242ac1c0002row1_col6\" class=\"data row1 col6\" >0.223825</td>\n",
              "                        <td id=\"T_f29d0e4e_c533_11eb_8914_0242ac1c0002row1_col7\" class=\"data row1 col7\" >0.199171</td>\n",
              "                        <td id=\"T_f29d0e4e_c533_11eb_8914_0242ac1c0002row1_col8\" class=\"data row1 col8\" >0.221427</td>\n",
              "            </tr>\n",
              "            <tr>\n",
              "                        <th id=\"T_f29d0e4e_c533_11eb_8914_0242ac1c0002level0_row2\" class=\"row_heading level0 row2\" >2</th>\n",
              "                        <td id=\"T_f29d0e4e_c533_11eb_8914_0242ac1c0002row2_col0\" class=\"data row2 col0\" >Log Regression onehotencoding</td>\n",
              "                        <td id=\"T_f29d0e4e_c533_11eb_8914_0242ac1c0002row2_col1\" class=\"data row2 col1\" >0.961938</td>\n",
              "                        <td id=\"T_f29d0e4e_c533_11eb_8914_0242ac1c0002row2_col2\" class=\"data row2 col2\" >0.739791</td>\n",
              "                        <td id=\"T_f29d0e4e_c533_11eb_8914_0242ac1c0002row2_col3\" class=\"data row2 col3\" >0.841342</td>\n",
              "                        <td id=\"T_f29d0e4e_c533_11eb_8914_0242ac1c0002row2_col4\" class=\"data row2 col4\" >0.400866</td>\n",
              "                        <td id=\"T_f29d0e4e_c533_11eb_8914_0242ac1c0002row2_col5\" class=\"data row2 col5\" >0.980485</td>\n",
              "                        <td id=\"T_f29d0e4e_c533_11eb_8914_0242ac1c0002row2_col6\" class=\"data row2 col6\" >0.533362</td>\n",
              "                        <td id=\"T_f29d0e4e_c533_11eb_8914_0242ac1c0002row2_col7\" class=\"data row2 col7\" >0.899231</td>\n",
              "                        <td id=\"T_f29d0e4e_c533_11eb_8914_0242ac1c0002row2_col8\" class=\"data row2 col8\" >0.434517</td>\n",
              "            </tr>\n",
              "            <tr>\n",
              "                        <th id=\"T_f29d0e4e_c533_11eb_8914_0242ac1c0002level0_row3\" class=\"row_heading level0 row3\" >3</th>\n",
              "                        <td id=\"T_f29d0e4e_c533_11eb_8914_0242ac1c0002row3_col0\" class=\"data row3 col0\" >Log Regression TF-IDF</td>\n",
              "                        <td id=\"T_f29d0e4e_c533_11eb_8914_0242ac1c0002row3_col1\" class=\"data row3 col1\" >0.817186</td>\n",
              "                        <td id=\"T_f29d0e4e_c533_11eb_8914_0242ac1c0002row3_col2\" class=\"data row3 col2\" >0.738795</td>\n",
              "                        <td id=\"T_f29d0e4e_c533_11eb_8914_0242ac1c0002row3_col3\" class=\"data row3 col3\" >0.409252</td>\n",
              "                        <td id=\"T_f29d0e4e_c533_11eb_8914_0242ac1c0002row3_col4\" class=\"data row3 col4\" >0.325113</td>\n",
              "                        <td id=\"T_f29d0e4e_c533_11eb_8914_0242ac1c0002row3_col5\" class=\"data row3 col5\" >0.916470</td>\n",
              "                        <td id=\"T_f29d0e4e_c533_11eb_8914_0242ac1c0002row3_col6\" class=\"data row3 col6\" >0.578372</td>\n",
              "                        <td id=\"T_f29d0e4e_c533_11eb_8914_0242ac1c0002row3_col7\" class=\"data row3 col7\" >0.461099</td>\n",
              "                        <td id=\"T_f29d0e4e_c533_11eb_8914_0242ac1c0002row3_col8\" class=\"data row3 col8\" >0.348645</td>\n",
              "            </tr>\n",
              "            <tr>\n",
              "                        <th id=\"T_f29d0e4e_c533_11eb_8914_0242ac1c0002level0_row4\" class=\"row_heading level0 row4\" >4</th>\n",
              "                        <td id=\"T_f29d0e4e_c533_11eb_8914_0242ac1c0002row4_col0\" class=\"data row4 col0\" >Support vector machine(rbf)</td>\n",
              "                        <td id=\"T_f29d0e4e_c533_11eb_8914_0242ac1c0002row4_col1\" class=\"data row4 col1\" >0.778464</td>\n",
              "                        <td id=\"T_f29d0e4e_c533_11eb_8914_0242ac1c0002row4_col2\" class=\"data row4 col2\" >0.703187</td>\n",
              "                        <td id=\"T_f29d0e4e_c533_11eb_8914_0242ac1c0002row4_col3\" class=\"data row4 col3\" >0.319618</td>\n",
              "                        <td id=\"T_f29d0e4e_c533_11eb_8914_0242ac1c0002row4_col4\" class=\"data row4 col4\" >0.265028</td>\n",
              "                        <td id=\"T_f29d0e4e_c533_11eb_8914_0242ac1c0002row4_col5\" class=\"data row4 col5\" >0.528774</td>\n",
              "                        <td id=\"T_f29d0e4e_c533_11eb_8914_0242ac1c0002row4_col6\" class=\"data row4 col6\" >0.292749</td>\n",
              "                        <td id=\"T_f29d0e4e_c533_11eb_8914_0242ac1c0002row4_col7\" class=\"data row4 col7\" >0.324828</td>\n",
              "                        <td id=\"T_f29d0e4e_c533_11eb_8914_0242ac1c0002row4_col8\" class=\"data row4 col8\" >0.259456</td>\n",
              "            </tr>\n",
              "            <tr>\n",
              "                        <th id=\"T_f29d0e4e_c533_11eb_8914_0242ac1c0002level0_row5\" class=\"row_heading level0 row5\" >5</th>\n",
              "                        <td id=\"T_f29d0e4e_c533_11eb_8914_0242ac1c0002row5_col0\" class=\"data row5 col0\" >MultinomialNB(One hot encoding)</td>\n",
              "                        <td id=\"T_f29d0e4e_c533_11eb_8914_0242ac1c0002row5_col1\" class=\"data row5 col1\" >0.822376</td>\n",
              "                        <td id=\"T_f29d0e4e_c533_11eb_8914_0242ac1c0002row5_col2\" class=\"data row5 col2\" >0.666833</td>\n",
              "                        <td id=\"T_f29d0e4e_c533_11eb_8914_0242ac1c0002row5_col3\" class=\"data row5 col3\" >0.423612</td>\n",
              "                        <td id=\"T_f29d0e4e_c533_11eb_8914_0242ac1c0002row5_col4\" class=\"data row5 col4\" >0.272203</td>\n",
              "                        <td id=\"T_f29d0e4e_c533_11eb_8914_0242ac1c0002row5_col5\" class=\"data row5 col5\" >0.763076</td>\n",
              "                        <td id=\"T_f29d0e4e_c533_11eb_8914_0242ac1c0002row5_col6\" class=\"data row5 col6\" >0.446755</td>\n",
              "                        <td id=\"T_f29d0e4e_c533_11eb_8914_0242ac1c0002row5_col7\" class=\"data row5 col7\" >0.458811</td>\n",
              "                        <td id=\"T_f29d0e4e_c533_11eb_8914_0242ac1c0002row5_col8\" class=\"data row5 col8\" >0.274583</td>\n",
              "            </tr>\n",
              "    </tbody></table>"
            ],
            "text/plain": [
              "<pandas.io.formats.style.Styler at 0x7f10df846090>"
            ]
          },
          "execution_count": 94,
          "metadata": {
            "tags": []
          },
          "output_type": "execute_result"
        }
      ],
      "source": [
        "def color_negative_red(val):\n",
        "  color = 'red' if val == 'Log Regression TF-IDF'  or val==\t0.817186 or val== 0.738795 else 'black'\n",
        "  return 'color: %s' % color\n",
        "\n",
        "\n",
        "abc=result_featureSelection.style.applymap(color_negative_red)\n",
        "abc"
      ]
    },
    {
      "cell_type": "code",
      "execution_count": 173,
      "metadata": {
        "colab": {
          "base_uri": "https://localhost:8080/",
          "height": 480
        },
        "id": "jad8PNmCliFL",
        "outputId": "8722d4cf-70be-44e4-e121-0aa21b37cdf2"
      },
      "outputs": [
        {
          "data": {
            "image/png": "[encoded data removed]",
            "text/plain": [
              "<Figure size 288x288 with 1 Axes>"
            ]
          },
          "metadata": {
            "needs_background": "light",
            "tags": []
          },
          "output_type": "display_data"
        }
      ],
      "source": [
        "import matplotlib.pyplot as plt\n",
        "import  numpy as np\n",
        "%matplotlib inline\n",
        "\n",
        "plt.figure(figsize=(4,4))\n",
        "plt.xlabel(\"Technique\")\n",
        "plt.ylabel(\"Accuracy\")\n",
        "plt.plot(result_featureSelection['Technique name'],result_featureSelection['Train_Accuracy'],label=\"Training acc\")\n",
        "plt.plot(result_featureSelection['Technique name'],result_featureSelection['Test_Accuracy'],label=\"Testing acc\")\n",
        "plt.xticks(np.arange(6),result_featureSelection['Technique name'],rotation='vertical')\n",
        "plt.legend()\n",
        "plt.show()"
      ]
    },
    {
      "cell_type": "code",
      "execution_count": 176,
      "metadata": {
        "colab": {
          "base_uri": "https://localhost:8080/"
        },
        "id": "yWZBB1xSpQab",
        "outputId": "19f67b6a-a308-4381-8e2b-253398effb2a"
      },
      "outputs": [
        {
          "name": "stdout",
          "output_type": "stream",
          "text": [
            "0.7238545816733067\n",
            "[0.80762822 0.63121951 0.27272727 0.34108527 0.        ]\n"
          ]
        }
      ],
      "source": [
        "from sklearn.linear_model import LogisticRegression\n",
        "from sklearn.metrics import classification_report\n",
        "\n",
        "lr = LogisticRegression(random_state=0,max_iter=1000)\n",
        "lr_model = lr.fit(final_counts, label)\n",
        "print(lr_model.score(test_features, test_label))\n",
        "#f1_report=classification_report(test_label, lr_model.predict(test_features_tf_idf), digits=3, output_dict=True)\n",
        "f1_list=f1_score(test_label, lr_model.predict(test_features), average=None)\n",
        "print(f1_list)"
      ]
    },
    {
      "cell_type": "code",
      "execution_count": 177,
      "metadata": {
        "colab": {
          "base_uri": "https://localhost:8080/",
          "height": 295
        },
        "id": "HFiQZLq_uJPM",
        "outputId": "997ab142-3d83-4903-954e-2444259b2ae5"
      },
      "outputs": [
        {
          "data": {
            "image/png": "[encoded data removed]",
            "text/plain": [
              "<Figure size 432x288 with 1 Axes>"
            ]
          },
          "metadata": {
            "needs_background": "light",
            "tags": []
          },
          "output_type": "display_data"
        }
      ],
      "source": [
        "\n",
        "plt.title(\"f1 score for log regression using one hot encoding\")\n",
        "plt.bar(np.arange(5),f1_list)\n",
        "plt.xlabel(\"Class\")\n",
        "plt.ylabel(\"F1 score\")\n",
        "plt.xticks(np.arange(4),['neutral','positive','negative','very positive','very negative'])\n",
        "plt.show()"
      ]
    },
    {
      "cell_type": "code",
      "execution_count": 32,
      "metadata": {
        "colab": {
          "base_uri": "https://localhost:8080/"
        },
        "id": "NLKVRPKZrNBS",
        "outputId": "67324e65-1c2a-4a2b-874e-20045247ceeb"
      },
      "outputs": [
        {
          "name": "stdout",
          "output_type": "stream",
          "text": [
            "Train label 12138\n",
            "time taken :   0.07759976387023926\n",
            "Validation label 3109\n",
            "time taken :   0.09742331504821777\n",
            "4016\n"
          ]
        }
      ],
      "source": [
        "#hyperparameter tuning  \n",
        "#1 max_features\n",
        "\n",
        "label=[]\n",
        "for i in train_data['sentiment.polarity']:\n",
        "  if i=='neutral':\n",
        "    label.append(0)\n",
        "  if i==\"positive\":\n",
        "    label.append(1)\n",
        "  if i==\"negative\":\n",
        "    label.append(2)\n",
        "  if i==\"very positive\":\n",
        "    label.append(3)\n",
        "  if i==\"very negative\":\n",
        "    label.append(4)\n",
        "  \n",
        "print(\"Train label\",len(label))\n",
        "#validation_mainstring=validation_data['body'].copy()\n",
        "\n",
        "validation_mainstring=text_preprocessing_new(validation_data,'body')\n",
        "\n",
        "validation_label=[]\n",
        "for i in validation_data['sentiment.polarity']:\n",
        "  if i=='neutral':\n",
        "    validation_label.append(0)\n",
        "  if i==\"positive\":\n",
        "    validation_label.append(1)\n",
        "  if i==\"negative\":\n",
        "    validation_label.append(2)\n",
        "  if i==\"very positive\":\n",
        "    validation_label.append(3)\n",
        "  if i==\"very negative\":\n",
        "    validation_label.append(4)\n",
        "  \n",
        "print(\"Validation label\",len(validation_label))\n",
        "\n",
        "\n",
        "test_mainstring=text_preprocessing_new(test_data,'body')\n",
        "test_label=[]\n",
        "for i in test_data['sentiment.polarity']:\n",
        "  if i=='neutral':\n",
        "    test_label.append(0)\n",
        "  if i==\"positive\":\n",
        "    test_label.append(1)\n",
        "  if i==\"negative\":\n",
        "    test_label.append(2)\n",
        "  if i==\"very positive\":\n",
        "    test_label.append(3)\n",
        "  if i==\"very negative\":\n",
        "    test_label.append(4)\n",
        "  \n",
        "print(len(test_label))\n",
        "\n",
        "\n"
      ]
    },
    {
      "cell_type": "code",
      "execution_count": null,
      "metadata": {
        "id": "hCs_VIPzZ2KG"
      },
      "outputs": [],
      "source": [
        "import pickle\n",
        "filename = 'test_mainstring'\n",
        "outfile = open(filename,'wb')\n",
        "pickle.dump(test_mainstring, outfile)\n",
        "\n",
        "filename = 'validation_mainstring'\n",
        "outfile = open(filename,'wb')\n",
        "pickle.dump(validation_mainstring, outfile)\n"
      ]
    },
    {
      "cell_type": "code",
      "execution_count": 33,
      "metadata": {
        "colab": {
          "base_uri": "https://localhost:8080/"
        },
        "id": "APnM_E2JTZjo",
        "outputId": "8fa2268b-7541-40b9-a615-e43b69c57c53"
      },
      "outputs": [
        {
          "name": "stdout",
          "output_type": "stream",
          "text": [
            "[  500  7500 14500 21500 28500 35500 42500 49500]\n"
          ]
        }
      ],
      "source": [
        "import numpy as np\n",
        "max_features_list=np.arange(500,50000,7000)\n",
        "max_features_list=max_features_list[:]\n",
        "print(max_features_list)\n",
        "\n",
        "mainstring=mainstring_train.copy()"
      ]
    },
    {
      "cell_type": "code",
      "execution_count": 34,
      "metadata": {
        "colab": {
          "base_uri": "https://localhost:8080/",
          "height": 872
        },
        "id": "A_U99ODbSqNu",
        "outputId": "0fc4df42-73fc-48f3-d2c8-35cf2bea4166"
      },
      "outputs": [
        {
          "name": "stdout",
          "output_type": "stream",
          "text": [
            "Train feature shape and label shape (12138, 500) 12138\n",
            "Valid feature shape and label shape (3109, 500) 3109\n",
            "Test feature shape and label shape (4016, 500) 4016\n",
            "----------------------------------------------------------------------\n",
            "Train feature shape and label shape (12138, 7500) 12138\n",
            "Valid feature shape and label shape (3109, 7500) 3109\n",
            "Test feature shape and label shape (4016, 7500) 4016\n",
            "----------------------------------------------------------------------\n",
            "Train feature shape and label shape (12138, 14500) 12138\n",
            "Valid feature shape and label shape (3109, 14500) 3109\n",
            "Test feature shape and label shape (4016, 14500) 4016\n",
            "----------------------------------------------------------------------\n",
            "Train feature shape and label shape (12138, 21488) 12138\n",
            "Valid feature shape and label shape (3109, 21488) 3109\n",
            "Test feature shape and label shape (4016, 21488) 4016\n",
            "----------------------------------------------------------------------\n",
            "Train feature shape and label shape (12138, 21488) 12138\n",
            "Valid feature shape and label shape (3109, 21488) 3109\n",
            "Test feature shape and label shape (4016, 21488) 4016\n",
            "----------------------------------------------------------------------\n",
            "Train feature shape and label shape (12138, 21488) 12138\n",
            "Valid feature shape and label shape (3109, 21488) 3109\n",
            "Test feature shape and label shape (4016, 21488) 4016\n",
            "----------------------------------------------------------------------\n",
            "Train feature shape and label shape (12138, 21488) 12138\n",
            "Valid feature shape and label shape (3109, 21488) 3109\n",
            "Test feature shape and label shape (4016, 21488) 4016\n",
            "----------------------------------------------------------------------\n",
            "Train feature shape and label shape (12138, 21488) 12138\n",
            "Valid feature shape and label shape (3109, 21488) 3109\n",
            "Test feature shape and label shape (4016, 21488) 4016\n",
            "----------------------------------------------------------------------\n",
            "[0.4153354582820533, 0.342969486966861, 0.347195656729508, 0.33157058967419173, 0.33157058967419173, 0.33157058967419173, 0.33157058967419173, 0.33157058967419173]\n",
            "[0.3909042695515591, 0.3796847746923585, 0.3516036531628488, 0.3377172705459532, 0.3377172705459532, 0.3377172705459532, 0.3377172705459532, 0.3377172705459532]\n"
          ]
        },
        {
          "data": {
            "image/png": "[encoded data removed]",
            "text/plain": [
              "<Figure size 432x288 with 1 Axes>"
            ]
          },
          "metadata": {
            "needs_background": "light",
            "tags": []
          },
          "output_type": "display_data"
        }
      ],
      "source": [
        "from sklearn.feature_extraction.text import TfidfVectorizer\n",
        "from sklearn.metrics import accuracy_score\n",
        "from sklearn.linear_model import LogisticRegression\n",
        "import matplotlib.pyplot as plt\n",
        "%matplotlib inline\n",
        "acc_list=[]\n",
        "test_list_acc=[]\n",
        "for i in max_features_list:\n",
        "  tf_idf_vect = TfidfVectorizer(max_features=i)\n",
        "  tf_idf_vect.fit(mainstring)\n",
        "  train_features_tf_idf = tf_idf_vect.transform(mainstring)\n",
        "  print(\"Train feature shape and label shape\",train_features_tf_idf.shape,len(label))\n",
        "  valid_features_tf_idf = tf_idf_vect.transform(validation_mainstring)\n",
        "  print(\"Valid feature shape and label shape\",valid_features_tf_idf.shape,len(validation_label))\n",
        "  test_features_tf_idf = tf_idf_vect.transform(test_mainstring)\n",
        "  print(\"Test feature shape and label shape\",test_features_tf_idf.shape,len(test_label))\n",
        "  print(\"-------\"*10)\n",
        "\n",
        "\n",
        "\n",
        "  lr = LogisticRegression(random_state=0,max_iter=1000)\n",
        "  lr_model = lr.fit(train_features_tf_idf, label)\n",
        "  acc_list.append(f1_score(validation_label, lr_model.predict(valid_features_tf_idf), average='macro'))\n",
        "  test_list_acc.append(f1_score(test_label, lr_model.predict(test_features_tf_idf), average='macro'))\n",
        "\n",
        "print(acc_list)\n",
        "print(test_list_acc)\n",
        "\n",
        "plt.title(\"Hyperparameter tuning for max_features in tf idf \")\n",
        "plt.plot(max_features_list,acc_list)\n",
        "plt.show()\n",
        "\n"
      ]
    },
    {
      "cell_type": "markdown",
      "metadata": {
        "id": "Bor21GpwfHEz"
      },
      "source": [
        "** We choose hyperparameter max_feature as 1000, now we will tune sublinear_tf."
      ]
    },
    {
      "cell_type": "code",
      "execution_count": 182,
      "metadata": {
        "colab": {
          "base_uri": "https://localhost:8080/",
          "height": 805
        },
        "id": "lrVvSPv5rXjY",
        "outputId": "1defb275-9cf3-4a32-c575-8a4862d57e4f"
      },
      "outputs": [
        {
          "name": "stdout",
          "output_type": "stream",
          "text": [
            "Train feature shape and label shape (12138, 1000) 12138\n",
            "Valid feature shape and label shape (3109, 1000) 3109\n",
            "Test feature shape and label shape (4016, 1000) 4016\n",
            "----------------------------------------------------------------------\n",
            "Train feature shape and label shape (12138, 8000) 12138\n",
            "Valid feature shape and label shape (3109, 8000) 3109\n",
            "Test feature shape and label shape (4016, 8000) 4016\n",
            "----------------------------------------------------------------------\n",
            "Train feature shape and label shape (12138, 15000) 12138\n",
            "Valid feature shape and label shape (3109, 15000) 3109\n",
            "Test feature shape and label shape (4016, 15000) 4016\n",
            "----------------------------------------------------------------------\n",
            "Train feature shape and label shape (12138, 21488) 12138\n",
            "Valid feature shape and label shape (3109, 21488) 3109\n",
            "Test feature shape and label shape (4016, 21488) 4016\n",
            "----------------------------------------------------------------------\n",
            "Train feature shape and label shape (12138, 21488) 12138\n",
            "Valid feature shape and label shape (3109, 21488) 3109\n",
            "Test feature shape and label shape (4016, 21488) 4016\n",
            "----------------------------------------------------------------------\n",
            "Train feature shape and label shape (12138, 21488) 12138\n",
            "Valid feature shape and label shape (3109, 21488) 3109\n",
            "Test feature shape and label shape (4016, 21488) 4016\n",
            "----------------------------------------------------------------------\n",
            "Train feature shape and label shape (12138, 21488) 12138\n",
            "Valid feature shape and label shape (3109, 21488) 3109\n",
            "Test feature shape and label shape (4016, 21488) 4016\n",
            "----------------------------------------------------------------------\n",
            "[0.3980959287135224, 0.3548524359794871, 0.35232828429497076, 0.33087587288747006, 0.33087587288747006, 0.33087587288747006, 0.33087587288747006]\n",
            "[0.4181745702204407, 0.3779095831587541, 0.350283211390048, 0.33475589585796534, 0.33475589585796534, 0.33475589585796534, 0.33475589585796534]\n"
          ]
        },
        {
          "data": {
            "image/png": "[encoded data removed]",
            "text/plain": [
              "<Figure size 432x288 with 1 Axes>"
            ]
          },
          "metadata": {
            "needs_background": "light",
            "tags": []
          },
          "output_type": "display_data"
        }
      ],
      "source": [
        "acc_list=[]\n",
        "test_list_acc=[]\n",
        "for i in max_features_list:\n",
        "  tf_idf_vect = TfidfVectorizer(max_features=i,sublinear_tf='bool')\n",
        "  tf_idf_vect.fit(mainstring)\n",
        "  train_features_tf_idf = tf_idf_vect.transform(mainstring)\n",
        "  print(\"Train feature shape and label shape\",train_features_tf_idf.shape,len(label))\n",
        "  valid_features_tf_idf = tf_idf_vect.transform(validation_mainstring)\n",
        "  print(\"Valid feature shape and label shape\",valid_features_tf_idf.shape,len(validation_label))\n",
        "  test_features_tf_idf = tf_idf_vect.transform(test_mainstring)\n",
        "  print(\"Test feature shape and label shape\",test_features_tf_idf.shape,len(test_label))\n",
        "  print(\"-------\"*10)\n",
        "\n",
        "  lr = LogisticRegression(random_state=0,max_iter=1000)\n",
        "  lr_model = lr.fit(train_features_tf_idf, label)\n",
        "  acc_list.append(f1_score(validation_label, lr_model.predict(valid_features_tf_idf), average='macro'))\n",
        "  test_list_acc.append(f1_score(test_label, lr_model.predict(test_features_tf_idf), average='macro'))\n",
        "  \n",
        "print(acc_list)\n",
        "print(test_list_acc)\n",
        "\n",
        "plt.title(\"Hyperparameter tuning for max_features in tf idf \")\n",
        "plt.plot(max_features_list,acc_list)\n",
        "plt.show()\n"
      ]
    },
    {
      "cell_type": "code",
      "execution_count": 38,
      "metadata": {
        "colab": {
          "base_uri": "https://localhost:8080/"
        },
        "id": "5R2YHA09ipdB",
        "outputId": "64a95c6e-1e64-4f66-e4fd-1ee70a0ed1c2"
      },
      "outputs": [
        {
          "name": "stdout",
          "output_type": "stream",
          "text": [
            "[0.001, 0.01, 0.1, 1, 10, 100, 1000]\n"
          ]
        }
      ],
      "source": [
        "c=[10**i for i in range(-3,4)]\n",
        "print(c)"
      ]
    },
    {
      "cell_type": "code",
      "execution_count": 39,
      "metadata": {
        "colab": {
          "base_uri": "https://localhost:8080/",
          "height": 516
        },
        "id": "220BlY3ok6pI",
        "outputId": "2c200695-d9f8-4e20-9c25-b3473cbc354e"
      },
      "outputs": [
        {
          "name": "stdout",
          "output_type": "stream",
          "text": [
            "Train feature shape and label shape (12138, 700) 12138\n",
            "Valid feature shape and label shape (3109, 700) 3109\n",
            "Test feature shape and label shape (4016, 700) 4016\n",
            "----------------------------------------------------------------------\n",
            "[0.1547140039447732, 0.16355012208803535, 0.23912254408327277, 0.3963526514138037, 0.47145734120320143, 0.48685746219968473, 0.4764940653352988]\n",
            "[0.15399693721286373, 0.16310696774783168, 0.247634047382104, 0.4011098610662792, 0.4981940451299458, 0.485940876379646, 0.46862444210192794]\n"
          ]
        },
        {
          "name": "stderr",
          "output_type": "stream",
          "text": [
            "/usr/local/lib/python3.7/dist-packages/sklearn/linear_model/_logistic.py:940: ConvergenceWarning: lbfgs failed to converge (status=1):\n",
            "STOP: TOTAL NO. of ITERATIONS REACHED LIMIT.\n",
            "\n",
            "Increase the number of iterations (max_iter) or scale the data as shown in:\n",
            "    https://scikit-learn.org/stable/modules/preprocessing.html\n",
            "Please also refer to the documentation for alternative solver options:\n",
            "    https://scikit-learn.org/stable/modules/linear_model.html#logistic-regression\n",
            "  extra_warning_msg=_LOGISTIC_SOLVER_CONVERGENCE_MSG)\n"
          ]
        },
        {
          "data": {
            "image/png": "[encoded data removed]",
            "text/plain": [
              "<Figure size 432x288 with 1 Axes>"
            ]
          },
          "metadata": {
            "needs_background": "light",
            "tags": []
          },
          "output_type": "display_data"
        }
      ],
      "source": [
        "#tuning c\n",
        "acc_list=[]\n",
        "test_list_acc=[]\n",
        "tf_idf_vect = TfidfVectorizer(max_features=700,sublinear_tf='bool')\n",
        "tf_idf_vect.fit(mainstring)\n",
        "train_features_tf_idf = tf_idf_vect.transform(mainstring)\n",
        "print(\"Train feature shape and label shape\",train_features_tf_idf.shape,len(label))\n",
        "valid_features_tf_idf = tf_idf_vect.transform(validation_mainstring)\n",
        "print(\"Valid feature shape and label shape\",valid_features_tf_idf.shape,len(validation_label))\n",
        "test_features_tf_idf = tf_idf_vect.transform(test_mainstring)\n",
        "print(\"Test feature shape and label shape\",test_features_tf_idf.shape,len(test_label))\n",
        "print(\"-------\"*10)\n",
        "for i in c:\n",
        "  lr = LogisticRegression(random_state=0,max_iter=1000,C=i)\n",
        "  lr_model = lr.fit(train_features_tf_idf, label)\n",
        "  acc_list.append(f1_score(validation_label, lr_model.predict(valid_features_tf_idf), average='macro'))\n",
        "  test_list_acc.append(f1_score(test_label, lr_model.predict(test_features_tf_idf), average='macro'))\n",
        "  \n",
        "print(acc_list)\n",
        "print(test_list_acc)\n",
        "\n",
        "plt.title(\"Hyperparameter tuning for c in Log  Regress \")\n",
        "plt.plot(c,acc_list)\n",
        "plt.show()"
      ]
    },
    {
      "cell_type": "code",
      "execution_count": 65,
      "metadata": {
        "colab": {
          "base_uri": "https://localhost:8080/"
        },
        "id": "1TQRvIDzniFb",
        "outputId": "dbc0adb7-4b42-471d-d70e-062ebf55c0df"
      },
      "outputs": [
        {
          "name": "stdout",
          "output_type": "stream",
          "text": [
            "time taken :   0.09989666938781738\n",
            "Test accuracy after hyper parameter tuning 0.7432768924302788\n",
            "Train accuracy after hyper parameter tuning 0.7915636842972483\n"
          ]
        },
        {
          "data": {
            "text/plain": [
              "0.504985483802782"
            ]
          },
          "execution_count": 65,
          "metadata": {
            "tags": []
          },
          "output_type": "execute_result"
        }
      ],
      "source": [
        "from sklearn.feature_extraction.text import TfidfVectorizer\n",
        "\n",
        "# Pass in the tokenizer as the tokenizer to the vectorizer.\n",
        "# Create a one-hot encoding vectorizer.\n",
        "one_hot_vectorizer = TfidfVectorizer(max_features=700,sublinear_tf='bool')\n",
        "train_features = one_hot_vectorizer.fit_transform(mainstring)\n",
        "test=text_preprocessing_new(test_data,'body')\n",
        "test_features = one_hot_vectorizer.transform(test)\n",
        "lr = LogisticRegression(random_state=1,max_iter=1000,C=15,solver='sag')\n",
        "lr_model = lr.fit(train_features, label)\n",
        "print(\"Test accuracy after hyper parameter tuning\",lr_model.score(test_features, test_label))\n",
        "print(\"Train accuracy after hyper parameter tuning\",lr_model.score(train_features, label))\n",
        "\n",
        "f1_score(test_label, lr_model.predict(test_features), average='macro')\n",
        "\n"
      ]
    },
    {
      "cell_type": "code",
      "execution_count": 43,
      "metadata": {
        "colab": {
          "base_uri": "https://localhost:8080/"
        },
        "id": "vnnZPCdwXJ3d",
        "outputId": "0223bbdc-cd13-44fc-9aca-92223f7345ae"
      },
      "outputs": [
        {
          "name": "stdout",
          "output_type": "stream",
          "text": [
            "time taken :   0.09557342529296875\n",
            "Test accuracy after hyper parameter tuning 0.7432768924302788\n",
            "Train accuracy after hyper parameter tuning 0.791646070192783\n"
          ]
        },
        {
          "data": {
            "text/plain": [
              "0.504985483802782"
            ]
          },
          "execution_count": 43,
          "metadata": {
            "tags": []
          },
          "output_type": "execute_result"
        }
      ],
      "source": [
        "from sklearn.feature_extraction.text import TfidfVectorizer\n",
        "\n",
        "# Pass in the tokenizer as the tokenizer to the vectorizer.\n",
        "# Create a one-hot encoding vectorizer.\n",
        "one_hot_vectorizer = TfidfVectorizer(max_features=700,sublinear_tf='bool')\n",
        "train_features = one_hot_vectorizer.fit_transform(mainstring)\n",
        "test=text_preprocessing_new(test_data,'body')\n",
        "test_features = one_hot_vectorizer.transform(test)\n",
        "lr = LogisticRegression(random_state=1,max_iter=1000,C=15)\n",
        "lr_model = lr.fit(train_features, label)\n",
        "print(\"Test accuracy after hyper parameter tuning\",lr_model.score(test_features, test_label))\n",
        "print(\"Train accuracy after hyper parameter tuning\",lr_model.score(train_features, label))\n",
        "\n",
        "f1_score(test_label, lr_model.predict(test_features), average='macro')\n"
      ]
    },
    {
      "cell_type": "code",
      "execution_count": 50,
      "metadata": {
        "id": "ccKL-USmCrjD"
      },
      "outputs": [],
      "source": [
        "from mlxtend.plotting import plot_confusion_matrix\n"
      ]
    },
    {
      "cell_type": "code",
      "execution_count": 60,
      "metadata": {
        "colab": {
          "base_uri": "https://localhost:8080/",
          "height": 525
        },
        "id": "tR44vX77BhZc",
        "outputId": "4de71b04-c4a7-4845-f30e-5bd048574bf9"
      },
      "outputs": [
        {
          "name": "stdout",
          "output_type": "stream",
          "text": [
            "Confusion matrix\n"
          ]
        },
        {
          "data": {
            "image/png": "[encoded data removed]",
            "text/plain": [
              "<Figure size 432x288 with 2 Axes>"
            ]
          },
          "metadata": {
            "needs_background": "light",
            "tags": []
          },
          "output_type": "display_data"
        },
        {
          "name": "stdout",
          "output_type": "stream",
          "text": [
            "              precision    recall  f1-score   support\n",
            "\n",
            "           0      0.765     0.891     0.823      2514\n",
            "           1      0.710     0.580     0.638      1102\n",
            "           2      0.565     0.262     0.358       282\n",
            "           3      0.565     0.302     0.394        86\n",
            "           4      0.538     0.219     0.311        32\n",
            "\n",
            "    accuracy                          0.743      4016\n",
            "   macro avg      0.629     0.451     0.505      4016\n",
            "weighted avg      0.730     0.743     0.727      4016\n",
            "\n"
          ]
        }
      ],
      "source": [
        "\n",
        "\n",
        "confusion = confusion_matrix(test_label, lr_model.predict(test_features))\n",
        "print(\"Confusion matrix\")\n",
        "#print(confusion)\n",
        "\n",
        "plot_confusion_matrix(conf_mat=confusion,\n",
        "                                colorbar=True)\n",
        "plt.title(\"After Hyper parameter tuning\")\n",
        "plt.show()\n",
        "print(classification_report(test_label, lr_model.predict(test_features), digits=3))"
      ]
    },
    {
      "cell_type": "code",
      "execution_count": 64,
      "metadata": {
        "colab": {
          "base_uri": "https://localhost:8080/"
        },
        "id": "_wOxc5YTtgn7",
        "outputId": "9bb62f45-69bd-4c4a-f396-29b86411ea5b"
      },
      "outputs": [
        {
          "name": "stdout",
          "output_type": "stream",
          "text": [
            "Counter({0: 2514, 1: 1102, 2: 282, 3: 86, 4: 32})\n"
          ]
        }
      ],
      "source": [
        "label_count = collections.Counter(test_label)\n",
        "print(label_count)"
      ]
    },
    {
      "cell_type": "code",
      "execution_count": 66,
      "metadata": {
        "colab": {
          "base_uri": "https://localhost:8080/"
        },
        "id": "FhV-5SCw07Hx",
        "outputId": "9deb854e-32f8-42b5-93ba-18a3389c5848"
      },
      "outputs": [
        {
          "data": {
            "text/plain": [
              "Counter({0: 2926, 1: 900, 2: 131, 3: 46, 4: 13})"
            ]
          },
          "execution_count": 66,
          "metadata": {
            "tags": []
          },
          "output_type": "execute_result"
        }
      ],
      "source": [
        "collections.Counter(lr_model.predict(test_features))"
      ]
    },
    {
      "cell_type": "code",
      "execution_count": 63,
      "metadata": {
        "colab": {
          "base_uri": "https://localhost:8080/",
          "height": 763
        },
        "id": "wDSCwsahhnlL",
        "outputId": "1a42aaa3-bb8c-4c6b-f693-93647a8db4ed"
      },
      "outputs": [
        {
          "name": "stdout",
          "output_type": "stream",
          "text": [
            "(12138, 23832) 12138\n",
            "(4016, 23832) 4016\n"
          ]
        },
        {
          "name": "stderr",
          "output_type": "stream",
          "text": [
            "/usr/local/lib/python3.7/dist-packages/sklearn/linear_model/_logistic.py:940: ConvergenceWarning: lbfgs failed to converge (status=1):\n",
            "STOP: TOTAL NO. of ITERATIONS REACHED LIMIT.\n",
            "\n",
            "Increase the number of iterations (max_iter) or scale the data as shown in:\n",
            "    https://scikit-learn.org/stable/modules/preprocessing.html\n",
            "Please also refer to the documentation for alternative solver options:\n",
            "    https://scikit-learn.org/stable/modules/linear_model.html#logistic-regression\n",
            "  extra_warning_msg=_LOGISTIC_SOLVER_CONVERGENCE_MSG)\n"
          ]
        },
        {
          "name": "stdout",
          "output_type": "stream",
          "text": [
            "0.7387948207171314\n",
            "Confusion matrix\n"
          ]
        },
        {
          "data": {
            "image/png": "[encoded data removed]",
            "text/plain": [
              "<Figure size 432x288 with 2 Axes>"
            ]
          },
          "metadata": {
            "needs_background": "light",
            "tags": []
          },
          "output_type": "display_data"
        },
        {
          "name": "stdout",
          "output_type": "stream",
          "text": [
            "              precision    recall  f1-score   support\n",
            "\n",
            "           0      0.736     0.945     0.827      2514\n",
            "           1      0.760     0.507     0.608      1102\n",
            "           2      0.619     0.092     0.160       282\n",
            "           3      0.778     0.081     0.147        86\n",
            "           4      0.000     0.000     0.000        32\n",
            "\n",
            "    accuracy                          0.739      4016\n",
            "   macro avg      0.578     0.325     0.349      4016\n",
            "weighted avg      0.729     0.739     0.699      4016\n",
            "\n"
          ]
        },
        {
          "name": "stderr",
          "output_type": "stream",
          "text": [
            "/usr/local/lib/python3.7/dist-packages/sklearn/metrics/_classification.py:1272: UndefinedMetricWarning: Precision and F-score are ill-defined and being set to 0.0 in labels with no predicted samples. Use `zero_division` parameter to control this behavior.\n",
            "  _warn_prf(average, modifier, msg_start, len(result))\n"
          ]
        }
      ],
      "source": [
        "from sklearn.feature_extraction.text import TfidfVectorizer\n",
        "tf_idf_vect = TfidfVectorizer()\n",
        "tf_idf_vect.fit(train_data['body'])\n",
        "train_features_tf_idf = tf_idf_vect.transform(train_data['body'])\n",
        "print(train_features_tf_idf.shape,len(label))\n",
        "test_features_tf_idf = tf_idf_vect.transform(test_data['body'])\n",
        "print(test_features_tf_idf.shape,len(test_label))\n",
        "\n",
        "lr = LogisticRegression(random_state=0)\n",
        "lr_model = lr.fit(train_features_tf_idf, label)\n",
        "print(lr_model.score(test_features_tf_idf, test_label))\n",
        "\n",
        "confusion = confusion_matrix(test_label, lr_model.predict(test_features_tf_idf))\n",
        "print(\"Confusion matrix\")\n",
        "#print(confusion)\n",
        "\n",
        "plot_confusion_matrix(conf_mat=confusion,\n",
        "                                colorbar=True)\n",
        "plt.title(\"Before Hyper parameter tuning\")\n",
        "plt.show()\n",
        "print(classification_report(test_label, lr_model.predict(test_features_tf_idf), digits=3))"
      ]
    },
    {
      "cell_type": "code",
      "execution_count": 196,
      "metadata": {
        "colab": {
          "base_uri": "https://localhost:8080/"
        },
        "id": "S2JB6kj6E4g1",
        "outputId": "48de355f-f580-4a00-bebb-c79678fdb881"
      },
      "outputs": [
        {
          "name": "stdout",
          "output_type": "stream",
          "text": [
            "              precision    recall  f1-score   support\n",
            "\n",
            "           0      0.793     0.928     0.855      7679\n",
            "           1      0.777     0.621     0.690      3231\n",
            "           2      0.823     0.382     0.521       878\n",
            "           3      0.881     0.470     0.613       253\n",
            "           4      0.929     0.268     0.416        97\n",
            "\n",
            "    accuracy                          0.792     12138\n",
            "   macro avg      0.841     0.534     0.619     12138\n",
            "weighted avg      0.794     0.792     0.778     12138\n",
            "\n"
          ]
        }
      ],
      "source": [
        "print(classification_report(label, lr_model.predict(train_features), digits=3))"
      ]
    },
    {
      "cell_type": "code",
      "execution_count": null,
      "metadata": {
        "colab": {
          "base_uri": "https://localhost:8080/"
        },
        "id": "rqiyW1za2yjV",
        "outputId": "f26b4bda-60ac-456c-f1b1-8d3bfca318b1"
      },
      "outputs": [
        {
          "name": "stdout",
          "output_type": "stream",
          "text": [
            "Mean of negative  sentiment subjectivity :  count    878.000000\n",
            "mean       0.616039\n",
            "std        0.232289\n",
            "min        0.000000\n",
            "25%        0.450000\n",
            "50%        0.618783\n",
            "75%        0.766667\n",
            "max        1.000000\n",
            "Name: sentiment.subjectivity, dtype: float64\n",
            "---\n",
            "Mean of neutral  sentiment subjectivity count    7679.000000\n",
            "mean        0.264642\n",
            "std         0.274865\n",
            "min         0.000000\n",
            "25%         0.000000\n",
            "50%         0.250000\n",
            "75%         0.483333\n",
            "max         1.000000\n",
            "Name: sentiment.subjectivity, dtype: float64\n",
            "Median of neutral  sentiment subjectivity 0.25\n",
            "----\n",
            "Mean of positive  sentiment subjectivity 0.5508306735436095\n",
            "Median of positive  sentiment subjectivity 0.5357142857\n",
            "---\n",
            "Mean of very positive  sentiment subjectivity 0.7665579710142295\n",
            "Median of very positive  sentiment subjectivity 0.78\n",
            "---\n",
            "Mean of very negative  sentiment subjectivity:  0.942071674029897\n",
            "Median of very negative  sentiment subjectivity : 1.0\n",
            "---\n"
          ]
        }
      ],
      "source": [
        "print(\"Mean of negative  sentiment subjectivity : \",train_data[train_data['sentiment.polarity']=='negative']['sentiment.subjectivity'].describe())\n",
        "#print(\"Median of negative  sentiment subjectivity : \",train_data[train_data['sentiment.polarity']=='negative']['sentiment.subjectivity'].describe()['50%'])\n",
        "print(\"---\")\n",
        "print(\"Mean of neutral  sentiment subjectivity\",train_data[train_data['sentiment.polarity']=='neutral']['sentiment.subjectivity'].describe())\n",
        "print(\"Median of neutral  sentiment subjectivity\",train_data[train_data['sentiment.polarity']=='neutral']['sentiment.subjectivity'].describe()['50%'])\n",
        "print(\"----\")\n",
        "print(\"Mean of positive  sentiment subjectivity\",train_data[train_data['sentiment.polarity']=='positive']['sentiment.subjectivity'].describe()['mean'])\n",
        "print(\"Median of positive  sentiment subjectivity\",train_data[train_data['sentiment.polarity']=='positive']['sentiment.subjectivity'].describe()['50%'])\n",
        "print(\"---\")\n",
        "print(\"Mean of very positive  sentiment subjectivity\",train_data[train_data['sentiment.polarity']=='very positive']['sentiment.subjectivity'].describe()['mean'])\n",
        "print(\"Median of very positive  sentiment subjectivity\",train_data[train_data['sentiment.polarity']=='very positive']['sentiment.subjectivity'].describe()['50%'])\n",
        "print(\"---\")\n",
        "print(\"Mean of very negative  sentiment subjectivity: \",train_data[train_data['sentiment.polarity']=='very negative']['sentiment.subjectivity'].describe()['mean'])\n",
        "print(\"Median of very negative  sentiment subjectivity :\",train_data[train_data['sentiment.polarity']=='very negative']['sentiment.subjectivity'].describe()['50%'])\n",
        "print(\"---\")"
      ]
    },
    {
      "cell_type": "code",
      "execution_count": null,
      "metadata": {
        "colab": {
          "base_uri": "https://localhost:8080/"
        },
        "id": "cHcK98JjKpVs",
        "outputId": "aab1c8e9-c438-4ac8-ab70-bda376fe7f7a"
      },
      "outputs": [
        {
          "name": "stdout",
          "output_type": "stream",
          "text": [
            "Mean of negative  sentiment subjectivity :  0.6160388444440766\n",
            "Median of negative  sentiment subjectivity :  0.61878306875\n",
            "---\n",
            "Mean of neutral  sentiment subjectivity 0.26464225826580295\n",
            "Median of neutral  sentiment subjectivity 0.25\n",
            "----\n",
            "Mean of positive  sentiment subjectivity 0.5508306735436095\n",
            "Median of positive  sentiment subjectivity 0.5357142857\n",
            "---\n",
            "Mean of very positive  sentiment subjectivity 0.7665579710142295\n",
            "Median of very positive  sentiment subjectivity 0.78\n",
            "---\n",
            "Mean of very negative  sentiment subjectivity:  0.942071674029897\n",
            "Median of very negative  sentiment subjectivity : 1.0\n",
            "---\n"
          ]
        }
      ],
      "source": [
        "print(\"Mean of negative  sentiment subjectivity : \",train_data[train_data['sentiment.polarity']=='negative']['sentiment.subjectivity'].describe()['mean'])\n",
        "print(\"Median of negative  sentiment subjectivity : \",train_data[train_data['sentiment.polarity']=='negative']['sentiment.subjectivity'].describe()['50%'])\n",
        "print(\"---\")\n",
        "print(\"Mean of neutral  sentiment subjectivity\",train_data[train_data['sentiment.polarity']=='neutral']['sentiment.subjectivity'].describe()['mean'])\n",
        "print(\"Median of neutral  sentiment subjectivity\",train_data[train_data['sentiment.polarity']=='neutral']['sentiment.subjectivity'].describe()['50%'])\n",
        "print(\"----\")\n",
        "print(\"Mean of positive  sentiment subjectivity\",train_data[train_data['sentiment.polarity']=='positive']['sentiment.subjectivity'].describe()['mean'])\n",
        "print(\"Median of positive  sentiment subjectivity\",train_data[train_data['sentiment.polarity']=='positive']['sentiment.subjectivity'].describe()['50%'])\n",
        "print(\"---\")\n",
        "print(\"Mean of very positive  sentiment subjectivity\",train_data[train_data['sentiment.polarity']=='very positive']['sentiment.subjectivity'].describe()['mean'])\n",
        "print(\"Median of very positive  sentiment subjectivity\",train_data[train_data['sentiment.polarity']=='very positive']['sentiment.subjectivity'].describe()['50%'])\n",
        "print(\"---\")\n",
        "print(\"Mean of very negative  sentiment subjectivity: \",train_data[train_data['sentiment.polarity']=='very negative']['sentiment.subjectivity'].describe()['mean'])\n",
        "print(\"Median of very negative  sentiment subjectivity :\",train_data[train_data['sentiment.polarity']=='very negative']['sentiment.subjectivity'].describe()['50%'])\n",
        "print(\"---\")"
      ]
    },
    {
      "cell_type": "code",
      "execution_count": null,
      "metadata": {
        "id": "raqXmDsQpDzG"
      },
      "outputs": [],
      "source": [
        "mean_negative=train_data[train_data['sentiment.polarity']=='negative']['sentiment.subjectivity'].describe()['mean']\n",
        "mean_negative = round(mean_negative, 2)\n",
        "median_negative=train_data[train_data['sentiment.polarity']=='negative']['sentiment.subjectivity'].describe()['50%']\n",
        "median_negative = round(median_negative, 2)\n",
        "#print(\"---\")\n",
        "mean_neutral=train_data[train_data['sentiment.polarity']=='neutral']['sentiment.subjectivity'].describe()['mean']\n",
        "mean_neutral = round(mean_neutral, 2)\n",
        "median_neutral=train_data[train_data['sentiment.polarity']=='neutral']['sentiment.subjectivity'].describe()['50%']\n",
        "median_neutral = round(median_neutral, 2)\n",
        "#print(\"----\")\n",
        "mean_pos=train_data[train_data['sentiment.polarity']=='positive']['sentiment.subjectivity'].describe()['mean']\n",
        "mean_pos = round(mean_pos, 2)\n",
        "median_pos=train_data[train_data['sentiment.polarity']=='positive']['sentiment.subjectivity'].describe()['50%']\n",
        "median_pos = round(median_pos, 2)\n",
        "#print(\"---\")\n",
        "mean_vp=train_data[train_data['sentiment.polarity']=='very positive']['sentiment.subjectivity'].describe()['mean']\n",
        "mean_vp = round(mean_vp, 2)\n",
        "median_vp=train_data[train_data['sentiment.polarity']=='very positive']['sentiment.subjectivity'].describe()['50%']\n",
        "median_vp = round(median_vp, 2)\n",
        "#print(\"---\")\n",
        "mean_vn=train_data[train_data['sentiment.polarity']=='very negative']['sentiment.subjectivity'].describe()['mean']\n",
        "mean_vn = round(mean_vn, 2)\n",
        "median_vn=train_data[train_data['sentiment.polarity']=='very negative']['sentiment.subjectivity'].describe()['50%']\n",
        "median_vn = round(median_vn, 2)\n",
        "#print(\"---\")\n"
      ]
    },
    {
      "cell_type": "code",
      "execution_count": null,
      "metadata": {
        "id": "oMxChjN3qTBS"
      },
      "outputs": [],
      "source": [
        "mean_list=[]\n",
        "for i in train_data['sentiment.polarity']:\n",
        "  if i=='neutral':\n",
        "    mean_list.append(mean_negative)\n",
        "  if i==\"positive\":\n",
        "    mean_list.append(mean_neutral)\n",
        "  if i==\"negative\":\n",
        "    mean_list.append(mean_pos)\n",
        "  if i==\"very positive\":\n",
        "    mean_list.append(mean_vp)\n",
        "  if i==\"very negative\":\n",
        "    mean_list.append(mean_vn)\n",
        "\n",
        "\n",
        "  \n"
      ]
    },
    {
      "cell_type": "code",
      "execution_count": null,
      "metadata": {
        "colab": {
          "base_uri": "https://localhost:8080/"
        },
        "id": "eb8gd2SekViO",
        "outputId": "2977b864-349c-4555-8d29-4d917cb351fa"
      },
      "outputs": [
        {
          "name": "stdout",
          "output_type": "stream",
          "text": [
            "time taken :   0.29080963134765625\n"
          ]
        }
      ],
      "source": [
        "import time\n",
        "from nltk.stem.porter import PorterStemmer\n",
        "\n",
        "def text_preprocessing_new(df,column):\n",
        "  st=time.time()\n",
        "  ps = PorterStemmer()\n",
        "  mainstring=[]\n",
        "  for str1 in df[column].values:\n",
        "    str1 = re.sub('[^A-Za-z]+', ' ', str1)\n",
        "    str1=str1.strip()\n",
        "    str1 = ' '.join(e.lower() for e in str1.split() if e.lower() not in stopwords)\n",
        "    mainstring.append(str1.strip())\n",
        "    et=time.time()\n",
        "  print(\"time taken :  \",et-st)\n",
        "  return mainstring\n",
        "\n",
        "mainstring_new=text_preprocessing_new(train_data,'body')\n"
      ]
    },
    {
      "cell_type": "code",
      "execution_count": 80,
      "metadata": {
        "colab": {
          "base_uri": "https://localhost:8080/",
          "height": 279
        },
        "id": "ThDvijtPNGey",
        "outputId": "c2c868ec-1918-4629-832a-6ebb65bb4e39"
      },
      "outputs": [
        {
          "data": {
            "image/png": "[encoded data removed]",
            "text/plain": [
              "<Figure size 432x288 with 1 Axes>"
            ]
          },
          "metadata": {
            "needs_background": "light",
            "tags": []
          },
          "output_type": "display_data"
        }
      ],
      "source": [
        "import seaborn as sns\n",
        "ax = sns.boxplot(y=\"sentiment.subjectivity\",x=\"sentiment.polarity\", data=train_data)\n",
        "plt.show()"
      ]
    },
    {
      "cell_type": "code",
      "execution_count": 82,
      "metadata": {
        "colab": {
          "base_uri": "https://localhost:8080/",
          "height": 49
        },
        "id": "K5-GHag4o5JO",
        "outputId": "6c36f4a9-e3b6-4e54-be98-5b9550642472"
      },
      "outputs": [
        {
          "data": {
            "text/html": [
              "<div>\n",
              "<style scoped>\n",
              "    .dataframe tbody tr th:only-of-type {\n",
              "        vertical-align: middle;\n",
              "    }\n",
              "\n",
              "    .dataframe tbody tr th {\n",
              "        vertical-align: top;\n",
              "    }\n",
              "\n",
              "    .dataframe thead th {\n",
              "        text-align: right;\n",
              "    }\n",
              "</style>\n",
              "<table border=\"1\" class=\"dataframe\">\n",
              "  <thead>\n",
              "    <tr style=\"text-align: right;\">\n",
              "      <th></th>\n",
              "      <th>Standard Dev</th>\n",
              "      <th>Mean</th>\n",
              "    </tr>\n",
              "  </thead>\n",
              "  <tbody>\n",
              "  </tbody>\n",
              "</table>\n",
              "</div>"
            ],
            "text/plain": [
              "Empty DataFrame\n",
              "Columns: [Standard Dev, Mean]\n",
              "Index: []"
            ]
          },
          "execution_count": 82,
          "metadata": {
            "tags": []
          },
          "output_type": "execute_result"
        }
      ],
      "source": [
        "col_names=['Standard Dev', 'Mean']\n",
        "pol_df=pd.DataFrame(columns=col_names)\n",
        "pol_df.head()"
      ]
    },
    {
      "cell_type": "code",
      "execution_count": null,
      "metadata": {
        "colab": {
          "base_uri": "https://localhost:8080/"
        },
        "id": "PJDA9Q9apGVc",
        "outputId": "991a4e32-e8d8-41f1-a8b3-7b8a0547094f"
      },
      "outputs": [
        {
          "data": {
            "text/plain": [
              "count     878.000000\n",
              "mean      139.195900\n",
              "std       158.423643\n",
              "min         4.000000\n",
              "25%        56.000000\n",
              "50%       103.000000\n",
              "75%       169.750000\n",
              "max      3201.000000\n",
              "Name: len, dtype: float64"
            ]
          },
          "execution_count": 112,
          "metadata": {
            "tags": []
          },
          "output_type": "execute_result"
        }
      ],
      "source": [
        "df_train[df_train['sentiment.polarity']=='negative']['len'].describe()['std']\n",
        "df_train[df_train['sentiment.polarity']=='negative']['len'].describe()['50%']"
      ]
    },
    {
      "cell_type": "code",
      "execution_count": 91,
      "metadata": {
        "colab": {
          "base_uri": "https://localhost:8080/",
          "height": 203
        },
        "id": "rRXZu3jfpn8j",
        "outputId": "d9646e82-4cc9-4432-e6c0-923a53b68791"
      },
      "outputs": [
        {
          "data": {
            "text/html": [
              "<div>\n",
              "<style scoped>\n",
              "    .dataframe tbody tr th:only-of-type {\n",
              "        vertical-align: middle;\n",
              "    }\n",
              "\n",
              "    .dataframe tbody tr th {\n",
              "        vertical-align: top;\n",
              "    }\n",
              "\n",
              "    .dataframe thead th {\n",
              "        text-align: right;\n",
              "    }\n",
              "</style>\n",
              "<table border=\"1\" class=\"dataframe\">\n",
              "  <thead>\n",
              "    <tr style=\"text-align: right;\">\n",
              "      <th></th>\n",
              "      <th>Standard Dev</th>\n",
              "      <th>Median</th>\n",
              "    </tr>\n",
              "  </thead>\n",
              "  <tbody>\n",
              "    <tr>\n",
              "      <th>neutral</th>\n",
              "      <td>434.306666</td>\n",
              "      <td>93.0</td>\n",
              "    </tr>\n",
              "    <tr>\n",
              "      <th>positive</th>\n",
              "      <td>260.196989</td>\n",
              "      <td>127.0</td>\n",
              "    </tr>\n",
              "    <tr>\n",
              "      <th>negative</th>\n",
              "      <td>158.423643</td>\n",
              "      <td>103.0</td>\n",
              "    </tr>\n",
              "    <tr>\n",
              "      <th>very positive</th>\n",
              "      <td>57.350506</td>\n",
              "      <td>52.0</td>\n",
              "    </tr>\n",
              "    <tr>\n",
              "      <th>very negative</th>\n",
              "      <td>62.943519</td>\n",
              "      <td>NaN</td>\n",
              "    </tr>\n",
              "  </tbody>\n",
              "</table>\n",
              "</div>"
            ],
            "text/plain": [
              "               Standard Dev  Median\n",
              "neutral          434.306666    93.0\n",
              "positive         260.196989   127.0\n",
              "negative         158.423643   103.0\n",
              "very positive     57.350506    52.0\n",
              "very negative     62.943519     NaN"
            ]
          },
          "execution_count": 91,
          "metadata": {
            "tags": []
          },
          "output_type": "execute_result"
        }
      ],
      "source": [
        "x2=[]\n",
        "x=df_train[df_train['sentiment.polarity']=='neutral']['len'].describe()['std']\n",
        "x1=df_train[df_train['sentiment.polarity']=='neutral']['len'].describe()['50%']\n",
        "x2.append([x,x1])\n",
        "x=df_train[df_train['sentiment.polarity']=='positive']['len'].describe()['std']\n",
        "x1=df_train[df_train['sentiment.polarity']=='positive']['len'].describe()['50%']\n",
        "x2.append([x,x1])\n",
        "x=df_train[df_train['sentiment.polarity']=='negative']['len'].describe()['std']\n",
        "x1=df_train[df_train['sentiment.polarity']=='negative']['len'].describe()['50%']\n",
        "x2.append([x,x1])\n",
        "x=df_train[df_train['sentiment.polarity']=='very positive']['len'].describe()['std']\n",
        "x1=df_train[df_train['sentiment.polarity']=='very positive']['len'].describe()['50%']\n",
        "x2.append([x,x1])\n",
        "x=df_train[df_train['sentiment.polarity']=='very negative']['len'].describe()['std']\n",
        "x1=df_train[df_train['sentiment.polarity']==' very negative']['len'].describe()['50%']\n",
        "x2.append([x,x1])\n",
        "\n",
        "col_names=['Standard Dev', 'Median']\n",
        "pol_df=pd.DataFrame( x2,columns=col_names,index=['neutral','positive','negative','very positive','very negative'])\n",
        "pol_df.head()\n"
      ]
    },
    {
      "cell_type": "code",
      "execution_count": 87,
      "metadata": {
        "colab": {
          "base_uri": "https://localhost:8080/"
        },
        "id": "1HmkNrtIVtSM",
        "outputId": "43a8dd00-0fbe-418d-ef43-db4ad81acc39"
      },
      "outputs": [
        {
          "data": {
            "text/plain": [
              "nan"
            ]
          },
          "execution_count": 87,
          "metadata": {
            "tags": []
          },
          "output_type": "execute_result"
        }
      ],
      "source": [
        "df_train[df_train['sentiment.polarity']==' very negative']['len'].describe()['mean']"
      ]
    },
    {
      "cell_type": "code",
      "execution_count": null,
      "metadata": {
        "colab": {
          "base_uri": "https://localhost:8080/"
        },
        "id": "SlT-NHnmpfsd",
        "outputId": "f7f86a93-3b09-4094-9882-61d4a3758c2a"
      },
      "outputs": [
        {
          "data": {
            "text/plain": [
              "count    3231.000000\n",
              "mean      199.851749\n",
              "std       260.196989\n",
              "min         3.000000\n",
              "25%        67.000000\n",
              "50%       127.000000\n",
              "75%       243.000000\n",
              "max      6177.000000\n",
              "Name: len, dtype: float64"
            ]
          },
          "execution_count": 113,
          "metadata": {
            "tags": []
          },
          "output_type": "execute_result"
        }
      ],
      "source": [
        "df_train[df_train['sentiment.polarity']=='positive']['len'].describe()"
      ]
    },
    {
      "cell_type": "code",
      "execution_count": 92,
      "metadata": {
        "colab": {
          "base_uri": "https://localhost:8080/",
          "height": 220
        },
        "id": "j34SihsJdMt5",
        "outputId": "b6923989-8d1b-4259-a339-ca216844fc39"
      },
      "outputs": [
        {
          "name": "stdout",
          "output_type": "stream",
          "text": [
            "<class 'pandas.core.frame.DataFrame'>\n"
          ]
        },
        {
          "data": {
            "text/html": [
              "<div>\n",
              "<style scoped>\n",
              "    .dataframe tbody tr th:only-of-type {\n",
              "        vertical-align: middle;\n",
              "    }\n",
              "\n",
              "    .dataframe tbody tr th {\n",
              "        vertical-align: top;\n",
              "    }\n",
              "\n",
              "    .dataframe thead th {\n",
              "        text-align: right;\n",
              "    }\n",
              "</style>\n",
              "<table border=\"1\" class=\"dataframe\">\n",
              "  <thead>\n",
              "    <tr style=\"text-align: right;\">\n",
              "      <th></th>\n",
              "      <th>body</th>\n",
              "      <th>sentiment.polarity</th>\n",
              "      <th>sentiment.subjectivity</th>\n",
              "      <th>len</th>\n",
              "    </tr>\n",
              "  </thead>\n",
              "  <tbody>\n",
              "    <tr>\n",
              "      <th>0</th>\n",
              "      <td>It's a sad realization, isn't it?</td>\n",
              "      <td>negative</td>\n",
              "      <td>1.000000</td>\n",
              "      <td>0.002809</td>\n",
              "    </tr>\n",
              "    <tr>\n",
              "      <th>1</th>\n",
              "      <td>I told her a couple of minutes ago that I didn...</td>\n",
              "      <td>neutral</td>\n",
              "      <td>0.483631</td>\n",
              "      <td>0.038563</td>\n",
              "    </tr>\n",
              "    <tr>\n",
              "      <th>2</th>\n",
              "      <td>Leeches don't make good friends.</td>\n",
              "      <td>positive</td>\n",
              "      <td>0.600000</td>\n",
              "      <td>0.002809</td>\n",
              "    </tr>\n",
              "    <tr>\n",
              "      <th>3</th>\n",
              "      <td>I just ended it. Apparently she wasn't a good ...</td>\n",
              "      <td>positive</td>\n",
              "      <td>0.475000</td>\n",
              "      <td>0.011067</td>\n",
              "    </tr>\n",
              "    <tr>\n",
              "      <th>4</th>\n",
              "      <td>Good for you!  Make sure you stick with it.</td>\n",
              "      <td>positive</td>\n",
              "      <td>0.744444</td>\n",
              "      <td>0.003746</td>\n",
              "    </tr>\n",
              "  </tbody>\n",
              "</table>\n",
              "</div>"
            ],
            "text/plain": [
              "                                                body  ...       len\n",
              "0                  It's a sad realization, isn't it?  ...  0.002809\n",
              "1  I told her a couple of minutes ago that I didn...  ...  0.038563\n",
              "2                  Leeches don't make good friends.   ...  0.002809\n",
              "3  I just ended it. Apparently she wasn't a good ...  ...  0.011067\n",
              "4       Good for you!  Make sure you stick with it.   ...  0.003746\n",
              "\n",
              "[5 rows x 4 columns]"
            ]
          },
          "execution_count": 92,
          "metadata": {
            "tags": []
          },
          "output_type": "execute_result"
        }
      ],
      "source": [
        "df_train=train_data[['body','sentiment.polarity','sentiment.subjectivity',]].copy()\n",
        "print(type(df_train))\n",
        "df_train['len']=df_train['body'].astype(str).apply(lambda x : len(x))\n",
        "df_train['len']=df_train['len']/np.max(df_train['len'])\n",
        "df_train.head(5)\n"
      ]
    },
    {
      "cell_type": "code",
      "execution_count": 93,
      "metadata": {
        "colab": {
          "base_uri": "https://localhost:8080/"
        },
        "id": "ZzBSCeo8T6wl",
        "outputId": "96e0517f-c4ca-4edc-840e-32fcbafcfe63"
      },
      "outputs": [
        {
          "name": "stdout",
          "output_type": "stream",
          "text": [
            "Train label 12138\n",
            "time taken :   0.2927868366241455\n",
            "12138\n",
            "(12138, 700)\n",
            "(12138, 2)\n"
          ]
        },
        {
          "data": {
            "text/plain": [
              "(12138, 702)"
            ]
          },
          "execution_count": 93,
          "metadata": {
            "tags": []
          },
          "output_type": "execute_result"
        }
      ],
      "source": [
        "from scipy import sparse\n",
        "label=[]\n",
        "for i in train_data['sentiment.polarity']:\n",
        "  if i=='neutral':\n",
        "    label.append(0)\n",
        "  if i==\"positive\":\n",
        "    label.append(1)\n",
        "  if i==\"negative\":\n",
        "    label.append(2)\n",
        "  if i==\"very positive\":\n",
        "    label.append(3)\n",
        "  if i==\"very negative\":\n",
        "    label.append(4)\n",
        "  \n",
        "print(\"Train label\",len(label))\n",
        "\n",
        "mainstring_new=text_preprocessing_new(train_data,'body')\n",
        "print(len(mainstring_new))\n",
        "one_hot_vectorizer = TfidfVectorizer(max_features=700,sublinear_tf='bool',min_df=4)\n",
        "train_features = one_hot_vectorizer.fit_transform(mainstring_new)\n",
        "print(train_features.shape)\n",
        "\n",
        "train=df_train.iloc[:,2:].values\n",
        "print(train.shape)\n",
        "\n",
        "train_features=sparse.hstack((train_features,train)).A\n",
        "train_features.shape\n"
      ]
    },
    {
      "cell_type": "code",
      "execution_count": 95,
      "metadata": {
        "colab": {
          "base_uri": "https://localhost:8080/",
          "height": 220
        },
        "id": "f50X1mCmaSXU",
        "outputId": "3179f01e-cf7b-4e2a-a30e-c626ef640e34"
      },
      "outputs": [
        {
          "name": "stdout",
          "output_type": "stream",
          "text": [
            "<class 'pandas.core.frame.DataFrame'>\n"
          ]
        },
        {
          "data": {
            "text/html": [
              "<div>\n",
              "<style scoped>\n",
              "    .dataframe tbody tr th:only-of-type {\n",
              "        vertical-align: middle;\n",
              "    }\n",
              "\n",
              "    .dataframe tbody tr th {\n",
              "        vertical-align: top;\n",
              "    }\n",
              "\n",
              "    .dataframe thead th {\n",
              "        text-align: right;\n",
              "    }\n",
              "</style>\n",
              "<table border=\"1\" class=\"dataframe\">\n",
              "  <thead>\n",
              "    <tr style=\"text-align: right;\">\n",
              "      <th></th>\n",
              "      <th>body</th>\n",
              "      <th>sentiment.polarity</th>\n",
              "      <th>sentiment.subjectivity</th>\n",
              "      <th>len</th>\n",
              "    </tr>\n",
              "  </thead>\n",
              "  <tbody>\n",
              "    <tr>\n",
              "      <th>0</th>\n",
              "      <td>Was watching a VOD from last years DreamHack W...</td>\n",
              "      <td>neutral</td>\n",
              "      <td>0.350000</td>\n",
              "      <td>0.050487</td>\n",
              "    </tr>\n",
              "    <tr>\n",
              "      <th>1</th>\n",
              "      <td>I find it cool that both Mana and Naama made i...</td>\n",
              "      <td>positive</td>\n",
              "      <td>0.650000</td>\n",
              "      <td>0.025243</td>\n",
              "    </tr>\n",
              "    <tr>\n",
              "      <th>2</th>\n",
              "      <td>Even better, watch a VOD from [MLG Raleigh](ht...</td>\n",
              "      <td>neutral</td>\n",
              "      <td>0.800000</td>\n",
              "      <td>0.052872</td>\n",
              "    </tr>\n",
              "    <tr>\n",
              "      <th>3</th>\n",
              "      <td>Wasn't that also an epic and awesome series? I...</td>\n",
              "      <td>very positive</td>\n",
              "      <td>0.566667</td>\n",
              "      <td>0.022461</td>\n",
              "    </tr>\n",
              "    <tr>\n",
              "      <th>4</th>\n",
              "      <td>Basically what the title says.</td>\n",
              "      <td>neutral</td>\n",
              "      <td>0.000000</td>\n",
              "      <td>0.005963</td>\n",
              "    </tr>\n",
              "  </tbody>\n",
              "</table>\n",
              "</div>"
            ],
            "text/plain": [
              "                                                body  ...       len\n",
              "0  Was watching a VOD from last years DreamHack W...  ...  0.050487\n",
              "1  I find it cool that both Mana and Naama made i...  ...  0.025243\n",
              "2  Even better, watch a VOD from [MLG Raleigh](ht...  ...  0.052872\n",
              "3  Wasn't that also an epic and awesome series? I...  ...  0.022461\n",
              "4                     Basically what the title says.  ...  0.005963\n",
              "\n",
              "[5 rows x 4 columns]"
            ]
          },
          "execution_count": 95,
          "metadata": {
            "tags": []
          },
          "output_type": "execute_result"
        }
      ],
      "source": [
        "df_test=test_data[['body','sentiment.polarity','sentiment.subjectivity']].copy()\n",
        "print(type(df_test))\n",
        "df_test['len']=df_test['body'].astype(str).apply(lambda x : len(x))\n",
        "df_test['len']=df_test['len']/np.max(df_test['len'])\n",
        "df_test.head(5)"
      ]
    },
    {
      "cell_type": "code",
      "execution_count": 96,
      "metadata": {
        "colab": {
          "base_uri": "https://localhost:8080/"
        },
        "id": "zz0vnhSpZ_LN",
        "outputId": "123fab2f-2591-46f1-e454-99ef1dbdb07c"
      },
      "outputs": [
        {
          "name": "stdout",
          "output_type": "stream",
          "text": [
            "Test label 4016\n",
            "time taken :   0.10477066040039062\n",
            "4016\n",
            "(4016, 700)\n",
            "(4016, 2)\n"
          ]
        },
        {
          "data": {
            "text/plain": [
              "(4016, 702)"
            ]
          },
          "execution_count": 96,
          "metadata": {
            "tags": []
          },
          "output_type": "execute_result"
        }
      ],
      "source": [
        "from scipy import sparse\n",
        "test_label=[]\n",
        "for i in test_data['sentiment.polarity']:\n",
        "  if i=='neutral':\n",
        "    test_label.append(0)\n",
        "  if i==\"positive\":\n",
        "    test_label.append(1)\n",
        "  if i==\"negative\":\n",
        "    test_label.append(2)\n",
        "  if i==\"very positive\":\n",
        "    test_label.append(3)\n",
        "  if i==\"very negative\":\n",
        "    test_label.append(4)\n",
        "  \n",
        "print(\"Test label\",len(test_label))\n",
        "\n",
        "test_mainstring_new=text_preprocessing_new(test_data,'body')\n",
        "print(len(test_mainstring_new))\n",
        "test_features = one_hot_vectorizer.transform(test_mainstring_new)\n",
        "print(test_features.shape)\n",
        "\n",
        "test=df_test.iloc[:,2:].values\n",
        "print(test.shape,)\n",
        "\n",
        "test_features=sparse.hstack((test_features,test)).A\n",
        "test_features.shape"
      ]
    },
    {
      "cell_type": "code",
      "execution_count": 98,
      "metadata": {
        "colab": {
          "base_uri": "https://localhost:8080/"
        },
        "id": "j1T8OTxMYPBz",
        "outputId": "c0bca5e9-eb2e-4d61-9692-5c79379a1a96"
      },
      "outputs": [
        {
          "name": "stdout",
          "output_type": "stream",
          "text": [
            "<class 'pandas.core.frame.DataFrame'>\n",
            "Val label 3109\n",
            "time taken :   0.0762178897857666\n",
            "3109\n",
            "(3109, 700)\n",
            "(3109, 2)\n"
          ]
        },
        {
          "data": {
            "text/plain": [
              "(3109, 702)"
            ]
          },
          "execution_count": 98,
          "metadata": {
            "tags": []
          },
          "output_type": "execute_result"
        }
      ],
      "source": [
        "df_validate=validation_data[['body','sentiment.polarity','sentiment.subjectivity']].copy()\n",
        "print(type(df_validate))\n",
        "df_validate['len']=df_validate['body'].astype(str).apply(lambda x : len(x))\n",
        "df_validate['len']=df_validate['len']/np.max(df_validate['len'])\n",
        "df_validate.head(5)\n",
        "\n",
        "\n",
        "from scipy import sparse\n",
        "val_label=[]\n",
        "for i in validation_data['sentiment.polarity']:\n",
        "  if i=='neutral':\n",
        "    val_label.append(0)\n",
        "  if i==\"positive\":\n",
        "    val_label.append(1)\n",
        "  if i==\"negative\":\n",
        "    val_label.append(2)\n",
        "  if i==\"very positive\":\n",
        "    val_label.append(3)\n",
        "  if i==\"very negative\":\n",
        "    val_label.append(4)\n",
        "  \n",
        "print(\"Val label\",len(val_label))\n",
        "\n",
        "val_mainstring_new=text_preprocessing_new(validation_data,'body')\n",
        "print(len(val_mainstring_new))\n",
        "val_features = one_hot_vectorizer.transform(val_mainstring_new)\n",
        "print(val_features.shape)\n",
        "\n",
        "val=df_validate.iloc[:,2:].values\n",
        "print(val.shape,)\n",
        "\n",
        "val_features=sparse.hstack((val_features,val)).A\n",
        "val_features.shape"
      ]
    },
    {
      "cell_type": "code",
      "execution_count": 99,
      "metadata": {
        "colab": {
          "base_uri": "https://localhost:8080/"
        },
        "id": "tBayg_iEVzvG",
        "outputId": "d1bb33db-d02d-42e8-b791-e03865e50903"
      },
      "outputs": [
        {
          "name": "stdout",
          "output_type": "stream",
          "text": [
            "Test accuracy        : 0.7599601593625498\n",
            "Train accuracy       : 0.8247652001977261\n",
            "Validation accuracy  : 0.7481505307172724\n"
          ]
        }
      ],
      "source": [
        "lr = LogisticRegression(random_state=1,max_iter=700,C=15,solver='sag')\n",
        "lr_model = lr.fit(train_features, label)\n",
        "print(\"Test accuracy        :\",lr_model.score(test_features, test_label))\n",
        "print(\"Train accuracy       :\",lr_model.score(train_features, label))\n",
        "print(\"Validation accuracy  :\",lr_model.score(val_features, val_label))\n",
        "\n"
      ]
    },
    {
      "cell_type": "code",
      "execution_count": 100,
      "metadata": {
        "colab": {
          "base_uri": "https://localhost:8080/"
        },
        "id": "S6KSr9Jmc4RH",
        "outputId": "8c9e2f6f-03b2-498c-d05f-35e82ebcd11b"
      },
      "outputs": [
        {
          "data": {
            "text/plain": [
              "0.5394948181586771"
            ]
          },
          "execution_count": 100,
          "metadata": {
            "tags": []
          },
          "output_type": "execute_result"
        }
      ],
      "source": [
        "f1_score(test_label, lr_model.predict(test_features), average=\"macro\")"
      ]
    },
    {
      "cell_type": "code",
      "execution_count": null,
      "metadata": {
        "colab": {
          "base_uri": "https://localhost:8080/"
        },
        "id": "EgAqLw00X-Qc",
        "outputId": "429897a9-2b81-4333-9f2a-f7e834830298"
      },
      "outputs": [
        {
          "data": {
            "text/plain": [
              "0.5394948181586771"
            ]
          },
          "execution_count": 107,
          "metadata": {
            "tags": []
          },
          "output_type": "execute_result"
        }
      ],
      "source": [
        "f1_score(test_label, lr_model.predict(test_features), average=\"macro\")"
      ]
    },
    {
      "cell_type": "code",
      "execution_count": 101,
      "metadata": {
        "colab": {
          "base_uri": "https://localhost:8080/",
          "height": 525
        },
        "id": "yitjidw8ZfeW",
        "outputId": "155cbc87-b497-4005-dc05-542542339312"
      },
      "outputs": [
        {
          "name": "stdout",
          "output_type": "stream",
          "text": [
            "Confusion matrix\n"
          ]
        },
        {
          "data": {
            "image/png": "[encoded data removed]",
            "text/plain": [
              "<Figure size 432x288 with 2 Axes>"
            ]
          },
          "metadata": {
            "needs_background": "light",
            "tags": []
          },
          "output_type": "display_data"
        },
        {
          "name": "stdout",
          "output_type": "stream",
          "text": [
            "              precision    recall  f1-score   support\n",
            "\n",
            "           0      0.804     0.904     0.851      2514\n",
            "           1      0.702     0.590     0.641      1102\n",
            "           2      0.469     0.298     0.364       282\n",
            "           3      0.545     0.419     0.474        86\n",
            "           4      0.529     0.281     0.367        32\n",
            "\n",
            "    accuracy                          0.760      4016\n",
            "   macro avg      0.610     0.498     0.539      4016\n",
            "weighted avg      0.745     0.760     0.747      4016\n",
            "\n"
          ]
        }
      ],
      "source": [
        "confusion = confusion_matrix(test_label, lr_model.predict(test_features))\n",
        "print(\"Confusion matrix\")\n",
        "#print(confusion)\n",
        "\n",
        "plot_confusion_matrix(conf_mat=confusion,\n",
        "                                colorbar=True)\n",
        "plt.title(\"After adding  features\")\n",
        "plt.show()\n",
        "print(classification_report(test_label, lr_model.predict(test_features), digits=3))"
      ]
    },
    {
      "cell_type": "code",
      "execution_count": null,
      "metadata": {
        "colab": {
          "base_uri": "https://localhost:8080/",
          "height": 237
        },
        "id": "cLsqHz2MXg0z",
        "outputId": "5a591742-d7db-4696-e6a6-789e7d966fba"
      },
      "outputs": [
        {
          "name": "stdout",
          "output_type": "stream",
          "text": [
            "<class 'pandas.core.frame.DataFrame'>\n",
            "(12138, 3)\n"
          ]
        },
        {
          "data": {
            "text/html": [
              "<div>\n",
              "<style scoped>\n",
              "    .dataframe tbody tr th:only-of-type {\n",
              "        vertical-align: middle;\n",
              "    }\n",
              "\n",
              "    .dataframe tbody tr th {\n",
              "        vertical-align: top;\n",
              "    }\n",
              "\n",
              "    .dataframe thead th {\n",
              "        text-align: right;\n",
              "    }\n",
              "</style>\n",
              "<table border=\"1\" class=\"dataframe\">\n",
              "  <thead>\n",
              "    <tr style=\"text-align: right;\">\n",
              "      <th></th>\n",
              "      <th>body</th>\n",
              "      <th>sentiment.polarity</th>\n",
              "      <th>author</th>\n",
              "    </tr>\n",
              "  </thead>\n",
              "  <tbody>\n",
              "    <tr>\n",
              "      <th>0</th>\n",
              "      <td>Melodrama_  Melodrama_ It's a sad realization,...</td>\n",
              "      <td>negative</td>\n",
              "      <td>Melodrama_</td>\n",
              "    </tr>\n",
              "    <tr>\n",
              "      <th>1</th>\n",
              "      <td>Melodrama_  Melodrama_ I told her a couple of ...</td>\n",
              "      <td>neutral</td>\n",
              "      <td>Melodrama_</td>\n",
              "    </tr>\n",
              "    <tr>\n",
              "      <th>2</th>\n",
              "      <td>TreatYoSelves  TreatYoSelves Leeches don't mak...</td>\n",
              "      <td>positive</td>\n",
              "      <td>TreatYoSelves</td>\n",
              "    </tr>\n",
              "    <tr>\n",
              "      <th>3</th>\n",
              "      <td>Melodrama_  Melodrama_ I just ended it. Appare...</td>\n",
              "      <td>positive</td>\n",
              "      <td>Melodrama_</td>\n",
              "    </tr>\n",
              "    <tr>\n",
              "      <th>4</th>\n",
              "      <td>TreatYoSelves  TreatYoSelves Good for you!  Ma...</td>\n",
              "      <td>positive</td>\n",
              "      <td>TreatYoSelves</td>\n",
              "    </tr>\n",
              "  </tbody>\n",
              "</table>\n",
              "</div>"
            ],
            "text/plain": [
              "                                                body  ...         author\n",
              "0  Melodrama_  Melodrama_ It's a sad realization,...  ...     Melodrama_\n",
              "1  Melodrama_  Melodrama_ I told her a couple of ...  ...     Melodrama_\n",
              "2  TreatYoSelves  TreatYoSelves Leeches don't mak...  ...  TreatYoSelves\n",
              "3  Melodrama_  Melodrama_ I just ended it. Appare...  ...     Melodrama_\n",
              "4  TreatYoSelves  TreatYoSelves Good for you!  Ma...  ...  TreatYoSelves\n",
              "\n",
              "[5 rows x 3 columns]"
            ]
          },
          "execution_count": 154,
          "metadata": {
            "tags": []
          },
          "output_type": "execute_result"
        }
      ],
      "source": [
        "df_train=train_data[['body','sentiment.polarity','author']].copy()\n",
        "print(type(df_train))\n",
        "\n",
        "#df_train['len']=df_train['body'].astype(str).apply(lambda x : len(x))\n",
        "#df_train['len']=pd.to_numeric(df_train['len'])\n",
        "\n",
        "df_train['body']= df_train['author']  + \"  \" +  df_train['author'] + \" \" + df_train['body'] + df_train['author']\n",
        "print(df_train.shape)\n",
        "df_train.head(5)\n"
      ]
    },
    {
      "cell_type": "code",
      "execution_count": null,
      "metadata": {
        "colab": {
          "base_uri": "https://localhost:8080/"
        },
        "id": "iIu13UlDwRXv",
        "outputId": "661fefd7-6abb-4aa3-fb38-df19ed72fbd9"
      },
      "outputs": [
        {
          "name": "stdout",
          "output_type": "stream",
          "text": [
            "Train label 12138\n",
            "time taken :   0.3514580726623535\n",
            "12138\n",
            "(12138, 700)\n"
          ]
        }
      ],
      "source": [
        "from scipy import sparse\n",
        "label=[]\n",
        "for i in train_data['sentiment.polarity']:\n",
        "  if i=='neutral':\n",
        "    label.append(0)\n",
        "  if i==\"positive\":\n",
        "    label.append(1)\n",
        "  if i==\"negative\":\n",
        "    label.append(2)\n",
        "  if i==\"very positive\":\n",
        "    label.append(3)\n",
        "  if i==\"very negative\":\n",
        "    label.append(4)\n",
        "  \n",
        "print(\"Train label\",len(label))\n",
        "\n",
        "mainstring_new=text_preprocessing_new(df_train,'body')\n",
        "print(len(mainstring_new))\n",
        "one_hot_vectorizer = TfidfVectorizer(max_features=700,sublinear_tf='bool')\n",
        "train_features = one_hot_vectorizer.fit_transform(mainstring_new)\n",
        "print(train_features.shape)\n",
        "\n"
      ]
    },
    {
      "cell_type": "code",
      "execution_count": null,
      "metadata": {
        "colab": {
          "base_uri": "https://localhost:8080/"
        },
        "id": "N4m7MgzBzmGQ",
        "outputId": "5c550f11-a0ce-4ac8-bea9-35a62d2710a6"
      },
      "outputs": [
        {
          "name": "stdout",
          "output_type": "stream",
          "text": [
            "Test label 4016\n",
            "time taken :   0.10492968559265137\n",
            "4016\n",
            "(4016, 700)\n"
          ]
        }
      ],
      "source": [
        "from scipy import sparse\n",
        "test_label=[]\n",
        "for i in test_data['sentiment.polarity']:\n",
        "  if i=='neutral':\n",
        "    test_label.append(0)\n",
        "  if i==\"positive\":\n",
        "    test_label.append(1)\n",
        "  if i==\"negative\":\n",
        "    test_label.append(2)\n",
        "  if i==\"very positive\":\n",
        "    test_label.append(3)\n",
        "  if i==\"very negative\":\n",
        "    test_label.append(4)\n",
        "  \n",
        "print(\"Test label\",len(test_label))\n",
        "\n",
        "test_mainstring_new=text_preprocessing_new(test_data,'body')\n",
        "print(len(test_mainstring_new))\n",
        "test_features = one_hot_vectorizer.transform(test_mainstring_new)\n",
        "print(test_features.shape)\n",
        "\n"
      ]
    },
    {
      "cell_type": "code",
      "execution_count": null,
      "metadata": {
        "colab": {
          "base_uri": "https://localhost:8080/"
        },
        "id": "vw_1rJRQz0y6",
        "outputId": "11585fe8-b54e-4437-e40c-615da20a74fd"
      },
      "outputs": [
        {
          "name": "stdout",
          "output_type": "stream",
          "text": [
            "0.7338147410358565\n",
            "0.7917284560883177\n"
          ]
        }
      ],
      "source": [
        "lr = LogisticRegression(random_state=1,max_iter=1000,C=100,solver='sag')\n",
        "lr_model = lr.fit(train_features, label)\n",
        "print(lr_model.score(test_features, test_label))\n",
        "print(lr_model.score(train_features, label))\n"
      ]
    },
    {
      "cell_type": "code",
      "execution_count": null,
      "metadata": {
        "colab": {
          "base_uri": "https://localhost:8080/",
          "height": 220
        },
        "id": "Qiq5isiT3hiU",
        "outputId": "78dc3352-e21d-4db5-9786-4ad4faa90a9a"
      },
      "outputs": [
        {
          "name": "stdout",
          "output_type": "stream",
          "text": [
            "<class 'pandas.core.frame.DataFrame'>\n"
          ]
        },
        {
          "data": {
            "text/html": [
              "<div>\n",
              "<style scoped>\n",
              "    .dataframe tbody tr th:only-of-type {\n",
              "        vertical-align: middle;\n",
              "    }\n",
              "\n",
              "    .dataframe tbody tr th {\n",
              "        vertical-align: top;\n",
              "    }\n",
              "\n",
              "    .dataframe thead th {\n",
              "        text-align: right;\n",
              "    }\n",
              "</style>\n",
              "<table border=\"1\" class=\"dataframe\">\n",
              "  <thead>\n",
              "    <tr style=\"text-align: right;\">\n",
              "      <th></th>\n",
              "      <th>body</th>\n",
              "      <th>sentiment.polarity</th>\n",
              "      <th>sentiment.subjectivity</th>\n",
              "      <th>len</th>\n",
              "    </tr>\n",
              "  </thead>\n",
              "  <tbody>\n",
              "    <tr>\n",
              "      <th>0</th>\n",
              "      <td>It's a sad realization, isn't it?</td>\n",
              "      <td>negative</td>\n",
              "      <td>1.000000</td>\n",
              "      <td>0.002809</td>\n",
              "    </tr>\n",
              "    <tr>\n",
              "      <th>1</th>\n",
              "      <td>I told her a couple of minutes ago that I didn...</td>\n",
              "      <td>neutral</td>\n",
              "      <td>0.483631</td>\n",
              "      <td>0.038563</td>\n",
              "    </tr>\n",
              "    <tr>\n",
              "      <th>2</th>\n",
              "      <td>Leeches don't make good friends.</td>\n",
              "      <td>positive</td>\n",
              "      <td>0.600000</td>\n",
              "      <td>0.002809</td>\n",
              "    </tr>\n",
              "    <tr>\n",
              "      <th>3</th>\n",
              "      <td>I just ended it. Apparently she wasn't a good ...</td>\n",
              "      <td>positive</td>\n",
              "      <td>0.475000</td>\n",
              "      <td>0.011067</td>\n",
              "    </tr>\n",
              "    <tr>\n",
              "      <th>4</th>\n",
              "      <td>Good for you!  Make sure you stick with it.</td>\n",
              "      <td>positive</td>\n",
              "      <td>0.744444</td>\n",
              "      <td>0.003746</td>\n",
              "    </tr>\n",
              "  </tbody>\n",
              "</table>\n",
              "</div>"
            ],
            "text/plain": [
              "                                                body  ...       len\n",
              "0                  It's a sad realization, isn't it?  ...  0.002809\n",
              "1  I told her a couple of minutes ago that I didn...  ...  0.038563\n",
              "2                  Leeches don't make good friends.   ...  0.002809\n",
              "3  I just ended it. Apparently she wasn't a good ...  ...  0.011067\n",
              "4       Good for you!  Make sure you stick with it.   ...  0.003746\n",
              "\n",
              "[5 rows x 4 columns]"
            ]
          },
          "execution_count": 160,
          "metadata": {
            "tags": []
          },
          "output_type": "execute_result"
        }
      ],
      "source": [
        "df_train=train_data[['body','sentiment.polarity','sentiment.subjectivity',]].copy()\n",
        "print(type(df_train))\n",
        "df_train['len']=df_train['body'].astype(str).apply(lambda x : len(x))\n",
        "df_train['len']=df_train['len']/np.max(df_train['len'])\n",
        "df_train.head(5)\n"
      ]
    },
    {
      "cell_type": "code",
      "execution_count": null,
      "metadata": {
        "colab": {
          "base_uri": "https://localhost:8080/"
        },
        "id": "WckPaVa83y5h",
        "outputId": "3acdf199-14df-4282-deb9-ce77e2a56b8a"
      },
      "outputs": [
        {
          "name": "stdout",
          "output_type": "stream",
          "text": [
            "Train label 12138\n",
            "time taken :   0.30594944953918457\n",
            "12138\n",
            "(12138, 700)\n",
            "(12138, 2)\n",
            "(12138, 702)\n",
            "(12138, 700)\n",
            "(12138, 1402)\n"
          ]
        }
      ],
      "source": [
        "from scipy import sparse\n",
        "label=[]\n",
        "for i in train_data['sentiment.polarity']:\n",
        "  if i=='neutral':\n",
        "    label.append(0)\n",
        "  if i==\"positive\":\n",
        "    label.append(1)\n",
        "  if i==\"negative\":\n",
        "    label.append(2)\n",
        "  if i==\"very positive\":\n",
        "    label.append(3)\n",
        "  if i==\"very negative\":\n",
        "    label.append(4)\n",
        "  \n",
        "print(\"Train label\",len(label))\n",
        "\n",
        "mainstring_new=text_preprocessing_new(train_data,'body')\n",
        "print(len(mainstring_new))\n",
        "one_hot_vectorizer = TfidfVectorizer(max_features=700,sublinear_tf='bool',min_df=4)\n",
        "train_features = one_hot_vectorizer.fit_transform(mainstring_new)\n",
        "print(train_features.shape)\n",
        "\n",
        "train=df_train.iloc[:,2:].values\n",
        "print(train.shape)\n",
        "\n",
        "train_features=sparse.hstack((train_features,train)).A\n",
        "print(train_features.shape)\n",
        "\n",
        "one_hot_vectorizer1 = TfidfVectorizer(max_features=700,sublinear_tf='bool',ngram_range=(1, 2))\n",
        "train_features_1 = one_hot_vectorizer1.fit_transform(mainstring_new)\n",
        "\n",
        "print(train_features_1.shape)\n",
        "\n",
        "\n",
        "train_features=sparse.hstack((train_features,train_features_1)).A\n",
        "print(train_features.shape)\n",
        "\n",
        "\n"
      ]
    },
    {
      "cell_type": "code",
      "execution_count": null,
      "metadata": {
        "colab": {
          "base_uri": "https://localhost:8080/",
          "height": 220
        },
        "id": "DvEb2Cqp4qWA",
        "outputId": "e33aaaed-87d3-49fe-b133-720ace361170"
      },
      "outputs": [
        {
          "name": "stdout",
          "output_type": "stream",
          "text": [
            "<class 'pandas.core.frame.DataFrame'>\n"
          ]
        },
        {
          "data": {
            "text/html": [
              "<div>\n",
              "<style scoped>\n",
              "    .dataframe tbody tr th:only-of-type {\n",
              "        vertical-align: middle;\n",
              "    }\n",
              "\n",
              "    .dataframe tbody tr th {\n",
              "        vertical-align: top;\n",
              "    }\n",
              "\n",
              "    .dataframe thead th {\n",
              "        text-align: right;\n",
              "    }\n",
              "</style>\n",
              "<table border=\"1\" class=\"dataframe\">\n",
              "  <thead>\n",
              "    <tr style=\"text-align: right;\">\n",
              "      <th></th>\n",
              "      <th>body</th>\n",
              "      <th>sentiment.polarity</th>\n",
              "      <th>sentiment.subjectivity</th>\n",
              "      <th>len</th>\n",
              "    </tr>\n",
              "  </thead>\n",
              "  <tbody>\n",
              "    <tr>\n",
              "      <th>0</th>\n",
              "      <td>Was watching a VOD from last years DreamHack W...</td>\n",
              "      <td>neutral</td>\n",
              "      <td>0.350000</td>\n",
              "      <td>0.050487</td>\n",
              "    </tr>\n",
              "    <tr>\n",
              "      <th>1</th>\n",
              "      <td>I find it cool that both Mana and Naama made i...</td>\n",
              "      <td>positive</td>\n",
              "      <td>0.650000</td>\n",
              "      <td>0.025243</td>\n",
              "    </tr>\n",
              "    <tr>\n",
              "      <th>2</th>\n",
              "      <td>Even better, watch a VOD from [MLG Raleigh](ht...</td>\n",
              "      <td>neutral</td>\n",
              "      <td>0.800000</td>\n",
              "      <td>0.052872</td>\n",
              "    </tr>\n",
              "    <tr>\n",
              "      <th>3</th>\n",
              "      <td>Wasn't that also an epic and awesome series? I...</td>\n",
              "      <td>very positive</td>\n",
              "      <td>0.566667</td>\n",
              "      <td>0.022461</td>\n",
              "    </tr>\n",
              "    <tr>\n",
              "      <th>4</th>\n",
              "      <td>Basically what the title says.</td>\n",
              "      <td>neutral</td>\n",
              "      <td>0.000000</td>\n",
              "      <td>0.005963</td>\n",
              "    </tr>\n",
              "  </tbody>\n",
              "</table>\n",
              "</div>"
            ],
            "text/plain": [
              "                                                body  ...       len\n",
              "0  Was watching a VOD from last years DreamHack W...  ...  0.050487\n",
              "1  I find it cool that both Mana and Naama made i...  ...  0.025243\n",
              "2  Even better, watch a VOD from [MLG Raleigh](ht...  ...  0.052872\n",
              "3  Wasn't that also an epic and awesome series? I...  ...  0.022461\n",
              "4                     Basically what the title says.  ...  0.005963\n",
              "\n",
              "[5 rows x 4 columns]"
            ]
          },
          "execution_count": 162,
          "metadata": {
            "tags": []
          },
          "output_type": "execute_result"
        }
      ],
      "source": [
        "df_test=test_data[['body','sentiment.polarity','sentiment.subjectivity']].copy()\n",
        "print(type(df_test))\n",
        "df_test['len']=df_test['body'].astype(str).apply(lambda x : len(x))\n",
        "df_test['len']=df_test['len']/np.max(df_test['len'])\n",
        "df_test.head(5)"
      ]
    },
    {
      "cell_type": "code",
      "execution_count": null,
      "metadata": {
        "colab": {
          "base_uri": "https://localhost:8080/"
        },
        "id": "GAYCBGMW47Sm",
        "outputId": "e1fb7dc6-99ec-4a17-c9dd-41f3a5704d0c"
      },
      "outputs": [
        {
          "name": "stdout",
          "output_type": "stream",
          "text": [
            "Test label 4016\n",
            "time taken :   0.10496091842651367\n",
            "4016\n",
            "(4016, 700)\n",
            "(4016, 2)\n",
            "(4016, 702)\n",
            "(4016, 1402)\n"
          ]
        }
      ],
      "source": [
        "from scipy import sparse\n",
        "test_label=[]\n",
        "for i in test_data['sentiment.polarity']:\n",
        "  if i=='neutral':\n",
        "    test_label.append(0)\n",
        "  if i==\"positive\":\n",
        "    test_label.append(1)\n",
        "  if i==\"negative\":\n",
        "    test_label.append(2)\n",
        "  if i==\"very positive\":\n",
        "    test_label.append(3)\n",
        "  if i==\"very negative\":\n",
        "    test_label.append(4)\n",
        "  \n",
        "print(\"Test label\",len(test_label))\n",
        "\n",
        "test_mainstring_new=text_preprocessing_new(test_data,'body')\n",
        "print(len(test_mainstring_new))\n",
        "test_features = one_hot_vectorizer.transform(test_mainstring_new)\n",
        "print(test_features.shape)\n",
        "test_features_1 = one_hot_vectorizer1.transform(test_mainstring_new)\n",
        "\n",
        "test=df_test.iloc[:,2:].values\n",
        "print(test.shape,)\n",
        "\n",
        "test_features=sparse.hstack((test_features,test)).A\n",
        "print(test_features.shape)\n",
        "\n",
        "test_features=sparse.hstack((test_features,test_features_1)).A\n",
        "print(test_features.shape)\n",
        "\n"
      ]
    },
    {
      "cell_type": "code",
      "execution_count": null,
      "metadata": {
        "colab": {
          "base_uri": "https://localhost:8080/"
        },
        "id": "sdXvC4If53Vn",
        "outputId": "f8996075-1f96-49de-e222-58c7237fe294"
      },
      "outputs": [
        {
          "name": "stdout",
          "output_type": "stream",
          "text": [
            "0.7552290836653387\n",
            "0.8322623166913824\n"
          ]
        }
      ],
      "source": []
    }
  ],
  "metadata": {
    "colab": {
      "collapsed_sections": [],
      "name": "Copy of TaD Coursework Skeleton 2021 - May-June",
      "provenance": [],
      "toc_visible": true
    },
    "kernelspec": {
      "display_name": "Python 3",
      "name": "python3"
    }
  },
  "nbformat": 4,
  "nbformat_minor": 0
}
